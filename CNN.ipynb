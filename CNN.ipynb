{
  "nbformat": 4,
  "nbformat_minor": 0,
  "metadata": {
    "colab": {
      "provenance": [],
      "authorship_tag": "ABX9TyNwpXjxBQhZbP7zzD8kkO26",
      "include_colab_link": true
    },
    "kernelspec": {
      "name": "python3",
      "display_name": "Python 3"
    },
    "language_info": {
      "name": "python"
    }
  },
  "cells": [
    {
      "cell_type": "markdown",
      "metadata": {
        "id": "view-in-github",
        "colab_type": "text"
      },
      "source": [
        "<a href=\"https://colab.research.google.com/github/Sheega-ameenah/Data_Science/blob/main/CNN.ipynb\" target=\"_parent\"><img src=\"https://colab.research.google.com/assets/colab-badge.svg\" alt=\"Open In Colab\"/></a>"
      ]
    },
    {
      "cell_type": "code",
      "execution_count": 1,
      "metadata": {
        "id": "Y9F8MDaiouUW"
      },
      "outputs": [],
      "source": [
        "import numpy as np\n",
        "import pandas as pd\n",
        "%matplotlib inline\n",
        "import matplotlib as mpl\n",
        "import matplotlib.pyplot as plt"
      ]
    },
    {
      "cell_type": "code",
      "source": [
        "import tensorflow as tf\n",
        "from tensorflow import keras"
      ],
      "metadata": {
        "id": "qzaJGzaspTvG"
      },
      "execution_count": 2,
      "outputs": []
    },
    {
      "cell_type": "code",
      "source": [
        "fashion_mnist = keras.datasets.fashion_mnist\n",
        "(X_train_full, y_train_full), (X_test, y_test) = fashion_mnist.load_data()"
      ],
      "metadata": {
        "colab": {
          "base_uri": "https://localhost:8080/"
        },
        "id": "49jMyD3upjoS",
        "outputId": "fe3ae311-ed4a-4306-9302-e34f3e0209d2"
      },
      "execution_count": 3,
      "outputs": [
        {
          "output_type": "stream",
          "name": "stdout",
          "text": [
            "Downloading data from https://storage.googleapis.com/tensorflow/tf-keras-datasets/train-labels-idx1-ubyte.gz\n",
            "29515/29515 [==============================] - 0s 0us/step\n",
            "Downloading data from https://storage.googleapis.com/tensorflow/tf-keras-datasets/train-images-idx3-ubyte.gz\n",
            "26421880/26421880 [==============================] - 0s 0us/step\n",
            "Downloading data from https://storage.googleapis.com/tensorflow/tf-keras-datasets/t10k-labels-idx1-ubyte.gz\n",
            "5148/5148 [==============================] - 0s 0us/step\n",
            "Downloading data from https://storage.googleapis.com/tensorflow/tf-keras-datasets/t10k-images-idx3-ubyte.gz\n",
            "4422102/4422102 [==============================] - 0s 0us/step\n"
          ]
        }
      ]
    },
    {
      "cell_type": "code",
      "source": [
        "class_names = [\n",
        "    'T-shirt/top','Trouser','Pullover','Dress','Coat',\n",
        "    'Sandal','Shirt','Sneaker','Bag','Ankle boot'\n",
        "]"
      ],
      "metadata": {
        "id": "S3gLzHP9qF96"
      },
      "execution_count": 4,
      "outputs": []
    },
    {
      "cell_type": "markdown",
      "source": [
        "## Data reshape"
      ],
      "metadata": {
        "id": "q1EYwXXAqwBo"
      }
    },
    {
      "cell_type": "code",
      "source": [
        "X_train_full= X_train_full.reshape((60000,28,28,1))\n",
        "X_test = X_test.reshape((10000,28,28,1))"
      ],
      "metadata": {
        "id": "hmjcdLa9quJE"
      },
      "execution_count": 5,
      "outputs": []
    },
    {
      "cell_type": "markdown",
      "source": [
        "## Data normalization\n",
        "\n",
        "we then normalize the data dimensions so that they are of approximately the same scale"
      ],
      "metadata": {
        "id": "-wZjkRh8rteZ"
      }
    },
    {
      "cell_type": "code",
      "source": [
        "X_train_n= X_train_full/225\n",
        "X_test_n= X_test/225"
      ],
      "metadata": {
        "id": "VR9fIWwqrqvW"
      },
      "execution_count": 6,
      "outputs": []
    },
    {
      "cell_type": "markdown",
      "source": [
        "## train-test-split"
      ],
      "metadata": {
        "id": "1bBiZF7Msj2D"
      }
    },
    {
      "cell_type": "code",
      "source": [
        "X_valid,X_train= X_train_n[:5000], X_train_n[5000:]\n",
        "y_valid,y_train= y_train_full[:5000],y_train_full[5000:]\n",
        "X_test= X_test_n"
      ],
      "metadata": {
        "id": "FYVmyeySsdPj"
      },
      "execution_count": 7,
      "outputs": []
    },
    {
      "cell_type": "markdown",
      "source": [
        "## Create model architecture"
      ],
      "metadata": {
        "id": "Yo2Go0W9tr7z"
      }
    },
    {
      "cell_type": "code",
      "source": [
        "np.random.seed(42)\n",
        "tf.random.set_seed(42)"
      ],
      "metadata": {
        "id": "xjXy-O0mtpH8"
      },
      "execution_count": 8,
      "outputs": []
    },
    {
      "cell_type": "markdown",
      "source": [
        "## Architecture"
      ],
      "metadata": {
        "id": "3-UsfT6_t_9R"
      }
    },
    {
      "cell_type": "code",
      "source": [
        "from keras.src.layers.serialization import activation\n",
        "model = keras.models.Sequential()\n",
        "model.add(keras.layers.Conv2D(filters= 32,kernel_size=(3,3), strides=1, padding='valid',activation= 'relu',input_shape= (28,28,1)))\n",
        "model.add(keras.layers.MaxPool2D((2,2)))\n",
        "\n",
        "model.add(keras.layers.Flatten())\n",
        "model.add(keras.layers.Dense(300, activation='relu'))\n",
        "model.add(keras.layers.Dense(100, activation='relu'))\n",
        "model.add(keras.layers.Dense(10, activation='softmax'))\n"
      ],
      "metadata": {
        "id": "kRvO3qA2t-BE"
      },
      "execution_count": 10,
      "outputs": []
    },
    {
      "cell_type": "code",
      "source": [
        "model.summary()"
      ],
      "metadata": {
        "colab": {
          "base_uri": "https://localhost:8080/"
        },
        "id": "Dk68pumLze7P",
        "outputId": "1e931d8c-8735-4aec-919e-77f358309900"
      },
      "execution_count": 11,
      "outputs": [
        {
          "output_type": "stream",
          "name": "stdout",
          "text": [
            "Model: \"sequential_1\"\n",
            "_________________________________________________________________\n",
            " Layer (type)                Output Shape              Param #   \n",
            "=================================================================\n",
            " conv2d (Conv2D)             (None, 26, 26, 32)        320       \n",
            "                                                                 \n",
            " max_pooling2d (MaxPooling2  (None, 13, 13, 32)        0         \n",
            " D)                                                              \n",
            "                                                                 \n",
            " flatten (Flatten)           (None, 5408)              0         \n",
            "                                                                 \n",
            " dense (Dense)               (None, 300)               1622700   \n",
            "                                                                 \n",
            " dense_1 (Dense)             (None, 100)               30100     \n",
            "                                                                 \n",
            " dense_2 (Dense)             (None, 10)                1010      \n",
            "                                                                 \n",
            "=================================================================\n",
            "Total params: 1654130 (6.31 MB)\n",
            "Trainable params: 1654130 (6.31 MB)\n",
            "Non-trainable params: 0 (0.00 Byte)\n",
            "_________________________________________________________________\n"
          ]
        }
      ]
    },
    {
      "cell_type": "code",
      "source": [
        "model.compile(loss='sparse_categorical_crossentropy',\n",
        "              optimizer = 'sgd',\n",
        "              metrics=['accuracy'])"
      ],
      "metadata": {
        "id": "mfxAWI5Bz3SY"
      },
      "execution_count": 12,
      "outputs": []
    },
    {
      "cell_type": "code",
      "source": [
        "model_history = model.fit(X_train,y_train, epochs= 10, batch_size= 64,\n",
        "                          validation_data=(X_valid,y_valid))"
      ],
      "metadata": {
        "colab": {
          "base_uri": "https://localhost:8080/"
        },
        "id": "yMcGEm_w0f9j",
        "outputId": "5e52ab31-cb6e-44b0-bfda-aef0d5be8bdd"
      },
      "execution_count": 13,
      "outputs": [
        {
          "output_type": "stream",
          "name": "stdout",
          "text": [
            "Epoch 1/10\n",
            "860/860 [==============================] - 38s 44ms/step - loss: 0.8427 - accuracy: 0.7127 - val_loss: 0.8134 - val_accuracy: 0.7012\n",
            "Epoch 2/10\n",
            "860/860 [==============================] - 39s 45ms/step - loss: 0.5224 - accuracy: 0.8113 - val_loss: 0.4836 - val_accuracy: 0.8164\n",
            "Epoch 3/10\n",
            "860/860 [==============================] - 35s 40ms/step - loss: 0.4654 - accuracy: 0.8323 - val_loss: 0.9366 - val_accuracy: 0.7078\n",
            "Epoch 4/10\n",
            "860/860 [==============================] - 37s 43ms/step - loss: 0.4301 - accuracy: 0.8476 - val_loss: 0.4014 - val_accuracy: 0.8604\n",
            "Epoch 5/10\n",
            "860/860 [==============================] - 37s 42ms/step - loss: 0.4064 - accuracy: 0.8543 - val_loss: 0.4002 - val_accuracy: 0.8614\n",
            "Epoch 6/10\n",
            "860/860 [==============================] - 36s 41ms/step - loss: 0.3830 - accuracy: 0.8629 - val_loss: 0.3653 - val_accuracy: 0.8750\n",
            "Epoch 7/10\n",
            "860/860 [==============================] - 36s 41ms/step - loss: 0.3659 - accuracy: 0.8688 - val_loss: 0.4038 - val_accuracy: 0.8574\n",
            "Epoch 8/10\n",
            "860/860 [==============================] - 38s 44ms/step - loss: 0.3509 - accuracy: 0.8738 - val_loss: 0.4838 - val_accuracy: 0.8226\n",
            "Epoch 9/10\n",
            "860/860 [==============================] - 37s 43ms/step - loss: 0.3377 - accuracy: 0.8781 - val_loss: 0.3542 - val_accuracy: 0.8704\n",
            "Epoch 10/10\n",
            "860/860 [==============================] - 38s 44ms/step - loss: 0.3252 - accuracy: 0.8823 - val_loss: 0.3885 - val_accuracy: 0.8582\n"
          ]
        }
      ]
    },
    {
      "cell_type": "code",
      "source": [
        "import pandas as pd\n",
        "\n",
        "pd.DataFrame(model_history.history).plot(figsize=(8,5))\n",
        "plt.grid(True)\n",
        "plt.gca().set_ylim(0,1)\n",
        "plt.show()"
      ],
      "metadata": {
        "colab": {
          "base_uri": "https://localhost:8080/",
          "height": 451
        },
        "id": "X_7OLzCY04lf",
        "outputId": "17585f8c-eb88-4a09-a53a-e0cabe6318f9"
      },
      "execution_count": 14,
      "outputs": [
        {
          "output_type": "display_data",
          "data": {
            "text/plain": [
              "<Figure size 800x500 with 1 Axes>"
            ],
            "image/png": "[encoded data removed]"
          },
          "metadata": {}
        }
      ]
    },
    {
      "cell_type": "code",
      "source": [
        "ev= model.evaluate(X_test_n,y_test)"
      ],
      "metadata": {
        "colab": {
          "base_uri": "https://localhost:8080/"
        },
        "id": "gzTzm_ti28ne",
        "outputId": "9c8761ae-684c-44e6-9e06-58122700697e"
      },
      "execution_count": 15,
      "outputs": [
        {
          "output_type": "stream",
          "name": "stdout",
          "text": [
            "313/313 [==============================] - 3s 10ms/step - loss: 0.4278 - accuracy: 0.8397\n"
          ]
        }
      ]
    },
    {
      "cell_type": "code",
      "source": [
        "ev"
      ],
      "metadata": {
        "colab": {
          "base_uri": "https://localhost:8080/"
        },
        "id": "KV130o1k3jMh",
        "outputId": "64da995e-41ce-4373-9da2-4fe21bc493d5"
      },
      "execution_count": 16,
      "outputs": [
        {
          "output_type": "execute_result",
          "data": {
            "text/plain": [
              "[0.4278300702571869, 0.8396999835968018]"
            ]
          },
          "metadata": {},
          "execution_count": 16
        }
      ]
    },
    {
      "cell_type": "code",
      "source": [
        "X_new= X_test[:3]"
      ],
      "metadata": {
        "id": "b_SDX-HP3pEF"
      },
      "execution_count": 17,
      "outputs": []
    },
    {
      "cell_type": "code",
      "source": [
        "y_pred = model.predict(X_new)\n",
        "y_pred"
      ],
      "metadata": {
        "colab": {
          "base_uri": "https://localhost:8080/"
        },
        "id": "x-UDwsnK38yn",
        "outputId": "e3650984-a03d-4f8a-8fe6-a1b4e861a878"
      },
      "execution_count": 21,
      "outputs": [
        {
          "output_type": "stream",
          "name": "stdout",
          "text": [
            "1/1 [==============================] - 0s 23ms/step\n"
          ]
        },
        {
          "output_type": "execute_result",
          "data": {
            "text/plain": [
              "array([[1.0931246e-05, 3.5630837e-05, 1.5634607e-05, 3.4494533e-05,\n",
              "        5.7467760e-06, 7.8312457e-03, 7.4240372e-05, 2.8137954e-02,\n",
              "        2.5926512e-03, 9.6126151e-01],\n",
              "       [1.7338424e-04, 1.5093218e-06, 9.8558182e-01, 6.2374734e-06,\n",
              "        5.9450540e-04, 5.2854922e-08, 1.3637239e-02, 3.4640529e-10,\n",
              "        5.2585842e-06, 7.9561346e-08],\n",
              "       [3.3895749e-06, 9.9998629e-01, 2.8369763e-07, 7.1205673e-06,\n",
              "        2.6604191e-06, 6.7051648e-10, 1.6648261e-07, 5.6432519e-08,\n",
              "        2.4065729e-08, 2.8347868e-08]], dtype=float32)"
            ]
          },
          "metadata": {},
          "execution_count": 21
        }
      ]
    },
    {
      "cell_type": "code",
      "source": [],
      "metadata": {
        "id": "k4uyMceG4Hr-"
      },
      "execution_count": null,
      "outputs": []
    }
  ]
}