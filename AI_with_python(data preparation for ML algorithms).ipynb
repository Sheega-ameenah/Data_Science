{
 "cells": [
  {
   "attachments": {},
   "cell_type": "markdown",
   "metadata": {},
   "source": [
    "# AI with Python – Data Preparation"
   ]
  },
  {
   "attachments": {},
   "cell_type": "markdown",
   "metadata": {},
   "source": [
    "# Preprocessing theData"
   ]
  },
  {
   "attachments": {},
   "cell_type": "markdown",
   "metadata": {},
   "source": [
    "## Step 1: Importing the useful packages:"
   ]
  },
  {
   "cell_type": "code",
   "execution_count": 6,
   "metadata": {},
   "outputs": [],
   "source": [
    "import numpy as np \n",
    "from sklearn import preprocessing as pp \n"
   ]
  },
  {
   "attachments": {},
   "cell_type": "markdown",
   "metadata": {},
   "source": [
    "## Step 2: Defining sample data:"
   ]
  },
  {
   "cell_type": "code",
   "execution_count": 5,
   "metadata": {},
   "outputs": [],
   "source": [
    "input_data = np.array([[2.1,-1.9,5.5],\n",
    "                      [-1.5,2.4,3.5],\n",
    "                      [0.5,-7.9,5.6],\n",
    "                      [5.9,2.3,-5.8]])\n"
   ]
  },
  {
   "attachments": {},
   "cell_type": "markdown",
   "metadata": {},
   "source": [
    "## Step3: Applying preprocessing technique"
   ]
  },
  {
   "attachments": {},
   "cell_type": "markdown",
   "metadata": {},
   "source": [
    "## Techniques for Data Preprocessing"
   ]
  },
  {
   "attachments": {},
   "cell_type": "markdown",
   "metadata": {},
   "source": [
    "## 1. Binarization\n",
    "This is the preprocessing technique which is used when we need to convert our numerical \n",
    "values into Boolean values. We can use an inbuilt method to binarize the input data say \n",
    "by using 0.5 as the threshold value in the following way: "
   ]
  },
  {
   "cell_type": "code",
   "execution_count": null,
   "metadata": {},
   "outputs": [],
   "source": [
    "binarized_data = pp.Binarizer(threshold=0.5).transform(input_data)\n",
    "binarized_data"
   ]
  },
  {
   "attachments": {},
   "cell_type": "markdown",
   "metadata": {},
   "source": [
    "Now, after running the above code we will get the following output, all the values above \n",
    "0.5(threshold value) would be converted to 1 and all the values below 0.5 would be \n",
    "converted to 0."
   ]
  },
  {
   "attachments": {},
   "cell_type": "markdown",
   "metadata": {},
   "source": [
    "## 2. Mean Removal\n",
    "It is another very common preprocessing technique that is used in machine learning. \n",
    "Basically it is used to eliminate the mean from feature vector so that every feature is \n",
    "centered on zero. We can also remove the bias from the features in the feature vector. \n",
    "For applying mean removal preprocessing technique on the sample data, we can write the \n",
    "Python code shown below. The code will display the Mean and Standard deviation of the \n",
    "input data:"
   ]
  },
  {
   "cell_type": "code",
   "execution_count": 11,
   "metadata": {},
   "outputs": [
    {
     "data": {
      "text/plain": [
       "array([2.71431391, 4.20022321, 4.69414529])"
      ]
     },
     "execution_count": 11,
     "metadata": {},
     "output_type": "execute_result"
    }
   ],
   "source": [
    "the_mean = input_data.mean(axis=0)\n",
    "the_standard_deviation = input_data.std(axis=0)\n",
    "the_mean\n",
    "the_standard_deviation"
   ]
  },
  {
   "attachments": {},
   "cell_type": "markdown",
   "metadata": {},
   "source": [
    "Now, the code below will remove the Mean and Standard deviation of the input data:"
   ]
  },
  {
   "cell_type": "code",
   "execution_count": 15,
   "metadata": {},
   "outputs": [
    {
     "data": {
      "text/plain": [
       "array([1., 1., 1.])"
      ]
     },
     "execution_count": 15,
     "metadata": {},
     "output_type": "execute_result"
    }
   ],
   "source": [
    "scaled_data = pp.scale(input_data)\n",
    "the_mean_1 = scaled_data.mean(axis=0)\n",
    "the_standard_deviation_1 = scaled_data.std(axis=0)\n",
    "the_mean_1\n",
    "the_standard_deviation_1"
   ]
  },
  {
   "attachments": {},
   "cell_type": "markdown",
   "metadata": {},
   "source": [
    "## 3. Scaling\n",
    "It is another data preprocessing technique that is used to scale the feature vectors. Scaling \n",
    "of feature vectors is needed because the values of every feature can vary between many \n",
    "random values. In other words we can say that scaling is important because we do not \n",
    "want any feature to be synthetically large or small. With the help of the following Python \n",
    "code, we can do the scaling of our input data, i.e., feature vector:"
   ]
  },
  {
   "attachments": {},
   "cell_type": "markdown",
   "metadata": {},
   "source": [
    "###  Min max scaling"
   ]
  },
  {
   "cell_type": "code",
   "execution_count": 17,
   "metadata": {},
   "outputs": [
    {
     "data": {
      "text/plain": [
       "array([[0.48648649, 0.58252427, 0.99122807],\n",
       "       [0.        , 1.        , 0.81578947],\n",
       "       [0.27027027, 0.        , 1.        ],\n",
       "       [1.        , 0.99029126, 0.        ]])"
      ]
     },
     "execution_count": 17,
     "metadata": {},
     "output_type": "execute_result"
    }
   ],
   "source": [
    "data_scaler_minmax = pp.MinMaxScaler(feature_range=(0,1))\n",
    "data_scaled_mimmax = data_scaler_minmax.fit_transform(input_data)\n",
    "data_scaled_mimmax"
   ]
  },
  {
   "attachments": {},
   "cell_type": "markdown",
   "metadata": {},
   "source": [
    "## 4. Normalization\n",
    "It is another data preprocessing technique that is used to modify the feature vectors. Such \n",
    "kind of modification is necessary to measure the feature vectors on a common scale. \n",
    "Followings are two types of normalization which can be used in machine learning:"
   ]
  },
  {
   "attachments": {},
   "cell_type": "markdown",
   "metadata": {},
   "source": [
    "### L1 Normalization\n",
    "It is also referred to as Least Absolute Deviations. This kind of normalization modifies \n",
    "the values so that the sum of the absolute values is always up to 1 in each row. It can be \n",
    "implemented on the input data with the help of the following Python code:"
   ]
  },
  {
   "cell_type": "code",
   "execution_count": 18,
   "metadata": {},
   "outputs": [
    {
     "data": {
      "text/plain": [
       "array([[ 0.22105263, -0.2       ,  0.57894737],\n",
       "       [-0.2027027 ,  0.32432432,  0.47297297],\n",
       "       [ 0.03571429, -0.56428571,  0.4       ],\n",
       "       [ 0.42142857,  0.16428571, -0.41428571]])"
      ]
     },
     "execution_count": 18,
     "metadata": {},
     "output_type": "execute_result"
    }
   ],
   "source": [
    "normalized_data = pp.normalize(input_data,norm='l1')\n",
    "normalized_data"
   ]
  },
  {
   "attachments": {},
   "cell_type": "markdown",
   "metadata": {},
   "source": [
    "### L2 Normalization\n",
    "It is also referred to as least squares. This kind of normalization modifies the values so \n",
    "that the sum of the squares is always up to 1 in each row. It can be implemented on the \n",
    "input data with the help of the following Python code:"
   ]
  },
  {
   "cell_type": "code",
   "execution_count": 19,
   "metadata": {},
   "outputs": [
    {
     "data": {
      "text/plain": [
       "array([[ 0.33946114, -0.30713151,  0.88906489],\n",
       "       [-0.33325106,  0.53320169,  0.7775858 ],\n",
       "       [ 0.05156558, -0.81473612,  0.57753446],\n",
       "       [ 0.68706914,  0.26784051, -0.6754239 ]])"
      ]
     },
     "execution_count": 19,
     "metadata": {},
     "output_type": "execute_result"
    }
   ],
   "source": [
    "normalized_data_l2 = pp.normalize(input_data, norm='l2')\n",
    "normalized_data_l2"
   ]
  },
  {
   "attachments": {},
   "cell_type": "markdown",
   "metadata": {},
   "source": [
    "# Labeling the Data"
   ]
  }
 ],
 "metadata": {
  "kernelspec": {
   "display_name": "base",
   "language": "python",
   "name": "python3"
  },
  "language_info": {
   "codemirror_mode": {
    "name": "ipython",
    "version": 3
   },
   "file_extension": ".py",
   "mimetype": "text/x-python",
   "name": "python",
   "nbconvert_exporter": "python",
   "pygments_lexer": "ipython3",
   "version": "3.9.12"
  },
  "orig_nbformat": 4
 },
 "nbformat": 4,
 "nbformat_minor": 2
}
