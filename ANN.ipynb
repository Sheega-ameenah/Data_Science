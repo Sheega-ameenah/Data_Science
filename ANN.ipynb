{
  "nbformat": 4,
  "nbformat_minor": 0,
  "metadata": {
    "colab": {
      "provenance": [],
      "authorship_tag": "ABX9TyMRnxepmi7+JNKsb/dZwqaW",
      "include_colab_link": true
    },
    "kernelspec": {
      "name": "python3",
      "display_name": "Python 3"
    },
    "language_info": {
      "name": "python"
    }
  },
  "cells": [
    {
      "cell_type": "markdown",
      "metadata": {
        "id": "view-in-github",
        "colab_type": "text"
      },
      "source": [
        "<a href=\"https://colab.research.google.com/github/Sheega-ameenah/Data_Science/blob/main/ANN.ipynb\" target=\"_parent\"><img src=\"https://colab.research.google.com/assets/colab-badge.svg\" alt=\"Open In Colab\"/></a>"
      ]
    },
    {
      "cell_type": "code",
      "execution_count": null,
      "metadata": {
        "id": "ZlyWxNQeUBJj"
      },
      "outputs": [],
      "source": [
        "from io import IncrementalNewlineDecoder\n",
        "import numpy as np\n",
        "import pandas as pd\n",
        "%matplotlib inline\n",
        "import matplotlib as mpl\n",
        "import matplotlib.pyplot as plt\n"
      ]
    },
    {
      "cell_type": "code",
      "source": [
        "import tensorflow as tf\n",
        "from tensorflow import keras"
      ],
      "metadata": {
        "id": "-ExDE8veXrvw"
      },
      "execution_count": null,
      "outputs": []
    },
    {
      "cell_type": "code",
      "source": [
        "fashion_mnist = keras.datasets.fashion_mnist\n",
        "(X_train_full,y_train_full),(X_test, y_test)= fashion_mnist.load_data()"
      ],
      "metadata": {
        "id": "peV3ld8TYFza"
      },
      "execution_count": null,
      "outputs": []
    },
    {
      "cell_type": "code",
      "source": [
        "plt.imshow(X_train_full[10])"
      ],
      "metadata": {
        "colab": {
          "base_uri": "https://localhost:8080/",
          "height": 447
        },
        "id": "lQl4AIQxZYA0",
        "outputId": "55f99498-90e9-4688-ef2a-ce81e0cf4b8e"
      },
      "execution_count": null,
      "outputs": [
        {
          "output_type": "execute_result",
          "data": {
            "text/plain": [
              "<matplotlib.image.AxesImage at 0x788e62b172b0>"
            ]
          },
          "metadata": {},
          "execution_count": 28
        },
        {
          "output_type": "display_data",
          "data": {
            "text/plain": [
              "<Figure size 640x480 with 1 Axes>"
            ],
            "image/png": "[encoded data removed]"
          },
          "metadata": {}
        }
      ]
    },
    {
      "cell_type": "code",
      "source": [
        "y_train_full[0]"
      ],
      "metadata": {
        "colab": {
          "base_uri": "https://localhost:8080/"
        },
        "id": "qANT9ScWZqFk",
        "outputId": "cf1d9ebd-bf20-4342-e480-f5dd1224a247"
      },
      "execution_count": null,
      "outputs": [
        {
          "output_type": "execute_result",
          "data": {
            "text/plain": [
              "9"
            ]
          },
          "metadata": {},
          "execution_count": 29
        }
      ]
    },
    {
      "cell_type": "code",
      "source": [
        "class_names= ['T-shirt/top','Trousers','Pullover','Dress','Coat','Sandal','Shirt','Sneaker','Bag','Ankle boot']"
      ],
      "metadata": {
        "id": "r9cY4aIqa5xY"
      },
      "execution_count": null,
      "outputs": []
    },
    {
      "cell_type": "code",
      "source": [
        "class_names[y_train_full[10]]"
      ],
      "metadata": {
        "colab": {
          "base_uri": "https://localhost:8080/",
          "height": 35
        },
        "id": "TZA0i6rGbk3s",
        "outputId": "96c00118-24f0-41e2-8e04-708936759726"
      },
      "execution_count": null,
      "outputs": [
        {
          "output_type": "execute_result",
          "data": {
            "text/plain": [
              "'T-shirt/top'"
            ],
            "application/vnd.google.colaboratory.intrinsic+json": {
              "type": "string"
            }
          },
          "metadata": {},
          "execution_count": 31
        }
      ]
    },
    {
      "cell_type": "code",
      "source": [
        "X_train_full[10]"
      ],
      "metadata": {
        "colab": {
          "base_uri": "https://localhost:8080/"
        },
        "id": "b4qrp6pwbtLm",
        "outputId": "11e43b4d-ad81-4adc-836c-d9f07caa9384"
      },
      "execution_count": null,
      "outputs": [
        {
          "output_type": "execute_result",
          "data": {
            "text/plain": [
              "array([[  0,   0,   0,   0,   0,   0,   0,  11, 142, 200, 106,   0,   0,\n",
              "          0,   0,   0,   0,   0,  85, 185, 112,   0,   0,   0,   0,   0,\n",
              "          0,   0],\n",
              "       [  0,   0,   0,   0,   0,   0, 152, 214, 217, 194, 236, 216, 187,\n",
              "        149, 135, 153, 211, 217, 231, 205, 217, 188,  34,   0,   0,   0,\n",
              "          0,   0],\n",
              "       [  0,   0,   0,   0,   0,  66, 185, 166, 180, 181, 190, 211, 221,\n",
              "        197, 146, 198, 206, 191, 168, 190, 172, 188, 175,   0,   0,   0,\n",
              "          0,   0],\n",
              "       [  0,   0,   0,   0,   0, 135, 153, 160, 175, 180, 170, 186, 187,\n",
              "        190, 188, 190, 187, 174, 195, 185, 174, 161, 175,  59,   0,   0,\n",
              "          0,   0],\n",
              "       [  0,   0,   0,   0,   0, 161, 147, 160, 170, 178, 177, 180, 168,\n",
              "        173, 174, 171, 185, 184, 185, 172, 171, 164, 174, 120,   0,   0,\n",
              "          0,   0],\n",
              "       [  0,   0,   0,   0,   2, 175, 146, 145, 168, 178, 181, 185, 180,\n",
              "        184, 178, 179, 187, 191, 193, 190, 181, 171, 172, 158,   0,   0,\n",
              "          0,   0],\n",
              "       [  0,   0,   0,   0,  35, 177, 155, 140, 151, 172, 191, 187, 186,\n",
              "        187, 186, 187, 182, 191, 194, 188, 180, 161, 161, 185,   0,   0,\n",
              "          0,   0],\n",
              "       [  0,   0,   0,   0,  59, 170, 153, 141, 120, 154, 160, 161, 172,\n",
              "        168, 166, 161, 165, 172, 170, 164, 139, 149, 162, 166,  21,   0,\n",
              "          0,   0],\n",
              "       [  0,   0,   0,   0,  79, 145, 160, 214, 123, 128, 153, 160, 164,\n",
              "        158, 157, 154, 155, 170, 165, 141, 195, 193, 152, 166,  61,   0,\n",
              "          0,   0],\n",
              "       [  0,   0,   0,   0, 100, 157, 225, 245, 175, 113, 174, 158, 158,\n",
              "        160, 155, 160, 164, 178, 188, 135, 185, 240, 201, 172, 108,   0,\n",
              "          0,   0],\n",
              "       [  0,   0,   0,   0,   0,  31, 174,  28, 126, 153, 166, 152, 158,\n",
              "        158, 160, 161, 157, 168, 191, 188,  18, 132, 159,   7,   0,   0,\n",
              "          0,   0],\n",
              "       [  0,   0,   0,   0,   0,   0,   0,   0,  82, 187, 159, 153, 157,\n",
              "        158, 162, 164, 164, 154, 187, 190,   0,   0,   0,   0,   0,   0,\n",
              "          0,   0],\n",
              "       [  0,   0,   0,   0,   1,   3,   5,   0,  37, 175, 158, 155, 162,\n",
              "        158, 160, 162, 165, 153, 177, 205,   0,   0,   3,   3,   0,   0,\n",
              "          0,   0],\n",
              "       [  0,   0,   0,   0,   0,   0,   1,   0,  25, 175, 152, 160, 158,\n",
              "        161, 160, 164, 164, 161, 166, 200,   0,   0,   1,   0,   0,   0,\n",
              "          0,   0],\n",
              "       [  0,   0,   0,   0,   0,   0,   4,   0,  30, 171, 147, 164, 155,\n",
              "        165, 161, 165, 162, 170, 164, 162,   0,   0,   2,   0,   0,   0,\n",
              "          0,   0],\n",
              "       [  0,   0,   0,   0,   0,   0,   4,   0,  57, 166, 155, 164, 166,\n",
              "        161, 161, 164, 167, 165, 165, 162,  28,   0,   3,   0,   0,   0,\n",
              "          0,   0],\n",
              "       [  0,   0,   0,   0,   0,   0,   3,   0, 114, 161, 161, 166, 159,\n",
              "        168, 161, 161, 172, 162, 165, 171,  50,   0,   5,   0,   0,   0,\n",
              "          0,   0],\n",
              "       [  0,   0,   0,   0,   0,   0,   1,   0, 149, 157, 167, 172, 159,\n",
              "        172, 164, 161, 172, 170, 160, 171,  89,   0,   4,   0,   0,   0,\n",
              "          0,   0],\n",
              "       [  0,   0,   0,   0,   0,   2,   0,   4, 171, 164, 166, 173, 159,\n",
              "        179, 166, 160, 174, 167, 162, 166, 128,   0,   2,   0,   0,   0,\n",
              "          0,   0],\n",
              "       [  0,   0,   0,   0,   0,   3,   0,  18, 152, 173, 160, 179, 154,\n",
              "        181, 166, 164, 175, 170, 166, 170, 164,   0,   0,   1,   0,   0,\n",
              "          0,   0],\n",
              "       [  0,   0,   0,   0,   0,   4,   0,  47, 165, 172, 167, 185, 153,\n",
              "        187, 173, 165, 174, 179, 166, 166, 158,   5,   0,   3,   0,   0,\n",
              "          0,   0],\n",
              "       [  0,   0,   0,   0,   0,   4,   0,  87, 180, 162, 179, 179, 157,\n",
              "        191, 182, 165, 168, 190, 173, 165, 166,  20,   0,   4,   0,   0,\n",
              "          0,   0],\n",
              "       [  0,   0,   0,   0,   0,   4,   0, 105, 187, 157, 194, 175, 161,\n",
              "        190, 184, 170, 158, 205, 177, 168, 171,  44,   0,   4,   0,   0,\n",
              "          0,   0],\n",
              "       [  0,   0,   0,   0,   0,   5,   0, 138, 181, 158, 205, 160, 167,\n",
              "        190, 198, 167, 152, 218, 186, 170, 172,  57,   0,   5,   0,   0,\n",
              "          0,   0],\n",
              "       [  0,   0,   0,   0,   0,   5,   0, 135, 174, 167, 199, 155, 166,\n",
              "        201, 219, 165, 158, 218, 188, 167, 175,  56,   0,   7,   0,   0,\n",
              "          0,   0],\n",
              "       [  0,   0,   0,   0,   0,   5,   0, 129, 171, 172, 177, 153, 159,\n",
              "        206, 216, 148, 157, 206, 190, 165, 175,  48,   0,   5,   0,   0,\n",
              "          0,   0],\n",
              "       [  0,   0,   0,   0,   0,   5,   0, 167, 187, 182, 198, 194, 200,\n",
              "        226, 240, 184, 206, 255, 197, 178, 179,  42,   0,   5,   0,   0,\n",
              "          0,   0],\n",
              "       [  0,   0,   0,   0,   0,   3,   0, 115, 135, 113, 106,  85,  82,\n",
              "        108, 133,  83,  90, 121, 120, 110, 158,  18,   0,   3,   0,   0,\n",
              "          0,   0]], dtype=uint8)"
            ]
          },
          "metadata": {},
          "execution_count": 32
        }
      ]
    },
    {
      "cell_type": "markdown",
      "source": [
        "**Data normalization**\n",
        "***\n",
        "Normalizing the data dimensions so that they are of approximately the same scale"
      ],
      "metadata": {
        "id": "RgRyLQqmciZu"
      }
    },
    {
      "cell_type": "code",
      "source": [
        "X_train_n = X_train_full/225.\n",
        "X_test_n = X_test/225."
      ],
      "metadata": {
        "id": "kokW666Sb9zp"
      },
      "execution_count": null,
      "outputs": []
    },
    {
      "cell_type": "markdown",
      "source": [
        "**Splitting the data into train/validation/test **\n",
        "**Training data:** Used for training model.\n",
        "\n",
        "**Validation data:** Used for tuning the hyperparameters and evaluating the models.\n",
        "**Test data**"
      ],
      "metadata": {
        "id": "gSk8JfvPexot"
      }
    },
    {
      "cell_type": "code",
      "source": [
        "X_valid, X_train = X_train_n[:5000],X_train_n[5000:]\n",
        "y_valid, y_train = y_train_full[:5000],y_train_full[5000:]\n",
        "X_test= X_test_n"
      ],
      "metadata": {
        "id": "H2a68Ychd61q"
      },
      "execution_count": null,
      "outputs": []
    },
    {
      "cell_type": "code",
      "source": [
        "X_valid[0]"
      ],
      "metadata": {
        "colab": {
          "base_uri": "https://localhost:8080/"
        },
        "id": "PuK4m-F8h_x4",
        "outputId": "d86a4df5-cb50-4a66-90c7-edb667401fe5"
      },
      "execution_count": null,
      "outputs": [
        {
          "output_type": "execute_result",
          "data": {
            "text/plain": [
              "array([[0.        , 0.        , 0.        , 0.        , 0.        ,\n",
              "        0.        , 0.        , 0.        , 0.        , 0.        ,\n",
              "        0.        , 0.        , 0.        , 0.        , 0.        ,\n",
              "        0.        , 0.        , 0.        , 0.        , 0.        ,\n",
              "        0.        , 0.        , 0.        , 0.        , 0.        ,\n",
              "        0.        , 0.        , 0.        ],\n",
              "       [0.        , 0.        , 0.        , 0.        , 0.        ,\n",
              "        0.        , 0.        , 0.        , 0.        , 0.        ,\n",
              "        0.        , 0.        , 0.        , 0.        , 0.        ,\n",
              "        0.        , 0.        , 0.        , 0.        , 0.        ,\n",
              "        0.        , 0.        , 0.        , 0.        , 0.        ,\n",
              "        0.        , 0.        , 0.        ],\n",
              "       [0.        , 0.        , 0.        , 0.        , 0.        ,\n",
              "        0.        , 0.        , 0.        , 0.        , 0.        ,\n",
              "        0.        , 0.        , 0.        , 0.        , 0.        ,\n",
              "        0.        , 0.        , 0.        , 0.        , 0.        ,\n",
              "        0.        , 0.        , 0.        , 0.        , 0.        ,\n",
              "        0.        , 0.        , 0.        ],\n",
              "       [0.        , 0.        , 0.        , 0.        , 0.        ,\n",
              "        0.        , 0.        , 0.        , 0.        , 0.        ,\n",
              "        0.        , 0.        , 0.00444444, 0.        , 0.        ,\n",
              "        0.05777778, 0.32444444, 0.        , 0.        , 0.00444444,\n",
              "        0.01777778, 0.        , 0.        , 0.        , 0.        ,\n",
              "        0.00444444, 0.00444444, 0.        ],\n",
              "       [0.        , 0.        , 0.        , 0.        , 0.        ,\n",
              "        0.        , 0.        , 0.        , 0.        , 0.        ,\n",
              "        0.        , 0.        , 0.01333333, 0.        , 0.16      ,\n",
              "        0.60444444, 0.56444444, 0.27555556, 0.24      , 0.        ,\n",
              "        0.        , 0.        , 0.00444444, 0.01333333, 0.01777778,\n",
              "        0.        , 0.        , 0.01333333],\n",
              "       [0.        , 0.        , 0.        , 0.        , 0.        ,\n",
              "        0.        , 0.        , 0.        , 0.        , 0.        ,\n",
              "        0.        , 0.        , 0.02666667, 0.        , 0.45333333,\n",
              "        0.90666667, 0.78222222, 0.59555556, 0.64      , 0.54666667,\n",
              "        0.10222222, 0.        , 0.        , 0.        , 0.        ,\n",
              "        0.05333333, 0.04444444, 0.        ],\n",
              "       [0.        , 0.        , 0.        , 0.        , 0.        ,\n",
              "        0.        , 0.        , 0.        , 0.        , 0.        ,\n",
              "        0.        , 0.        , 0.        , 0.        , 0.68888889,\n",
              "        1.04888889, 0.92      , 0.79111111, 0.47555556, 0.69333333,\n",
              "        0.71555556, 0.48444444, 0.28444444, 0.10222222, 0.34222222,\n",
              "        0.57777778, 0.32      , 0.06666667],\n",
              "       [0.        , 0.        , 0.        , 0.        , 0.        ,\n",
              "        0.        , 0.        , 0.        , 0.        , 0.        ,\n",
              "        0.        , 0.00444444, 0.        , 0.30666667, 0.92      ,\n",
              "        0.99111111, 0.96888889, 0.96      , 0.96      , 0.72444444,\n",
              "        0.56444444, 0.53777778, 0.54222222, 0.64888889, 0.62666667,\n",
              "        0.39111111, 0.76444444, 0.29333333],\n",
              "       [0.        , 0.        , 0.        , 0.        , 0.        ,\n",
              "        0.        , 0.        , 0.        , 0.        , 0.00444444,\n",
              "        0.00444444, 0.00444444, 0.        , 0.88888889, 1.03111111,\n",
              "        1.03111111, 1.03555556, 1.01777778, 0.99111111, 0.99111111,\n",
              "        0.95555556, 0.94666667, 0.72888889, 0.56444444, 0.54666667,\n",
              "        0.87111111, 1.01777778, 0.        ],\n",
              "       [0.        , 0.        , 0.        , 0.        , 0.        ,\n",
              "        0.        , 0.        , 0.        , 0.        , 0.        ,\n",
              "        0.        , 0.        , 0.        , 0.81333333, 1.        ,\n",
              "        0.96      , 0.99111111, 1.01333333, 1.04444444, 1.00888889,\n",
              "        0.99555556, 0.98666667, 0.99555556, 0.98222222, 0.99111111,\n",
              "        1.08888889, 0.76888889, 0.        ],\n",
              "       [0.        , 0.        , 0.        , 0.        , 0.        ,\n",
              "        0.        , 0.        , 0.        , 0.        , 0.        ,\n",
              "        0.        , 0.        , 0.        , 0.85777778, 1.01333333,\n",
              "        0.96888889, 0.94666667, 0.88      , 0.8       , 0.94222222,\n",
              "        0.93333333, 0.93777778, 0.94666667, 0.99111111, 0.97777778,\n",
              "        1.08      , 0.89777778, 0.        ],\n",
              "       [0.        , 0.        , 0.        , 0.        , 0.        ,\n",
              "        0.        , 0.        , 0.        , 0.        , 0.00444444,\n",
              "        0.01333333, 0.        , 0.05333333, 0.97333333, 0.97777778,\n",
              "        0.94222222, 0.96888889, 0.85333333, 0.75111111, 1.00888889,\n",
              "        0.92444444, 0.96888889, 0.99555556, 0.94222222, 1.00444444,\n",
              "        0.87555556, 0.92888889, 0.23111111],\n",
              "       [0.        , 0.        , 0.        , 0.        , 0.        ,\n",
              "        0.        , 0.        , 0.        , 0.        , 0.        ,\n",
              "        0.02666667, 0.        , 0.44      , 1.08444444, 0.98666667,\n",
              "        0.97777778, 0.96888889, 0.90222222, 0.88      , 0.98222222,\n",
              "        0.95555556, 0.94666667, 0.98666667, 0.97777778, 1.08888889,\n",
              "        0.52888889, 0.74222222, 0.24888889],\n",
              "       [0.        , 0.        , 0.        , 0.        , 0.        ,\n",
              "        0.        , 0.        , 0.        , 0.        , 0.01777778,\n",
              "        0.        , 0.        , 0.24444444, 1.04888889, 1.01333333,\n",
              "        1.02222222, 1.01333333, 1.06666667, 1.03111111, 0.94666667,\n",
              "        0.96888889, 0.99111111, 1.04      , 0.96444444, 0.96444444,\n",
              "        0.92888889, 0.40888889, 0.        ],\n",
              "       [0.        , 0.        , 0.00444444, 0.01777778, 0.02666667,\n",
              "        0.03111111, 0.00888889, 0.        , 0.        , 0.        ,\n",
              "        0.        , 0.        , 1.05333333, 1.00444444, 0.96444444,\n",
              "        0.99111111, 0.98666667, 0.97333333, 0.98666667, 0.98222222,\n",
              "        0.96      , 0.99111111, 1.01777778, 0.95555556, 0.96888889,\n",
              "        1.13333333, 0.34222222, 0.        ],\n",
              "       [0.        , 0.01333333, 0.        , 0.        , 0.        ,\n",
              "        0.        , 0.        , 0.        , 0.        , 0.27555556,\n",
              "        0.64444444, 0.90666667, 1.01333333, 0.92      , 0.94666667,\n",
              "        0.98222222, 0.96888889, 0.92444444, 0.93777778, 0.96888889,\n",
              "        0.99555556, 0.99111111, 0.97333333, 0.95555556, 0.99555556,\n",
              "        1.08444444, 0.70666667, 0.        ],\n",
              "       [0.        , 0.        , 0.        , 0.        , 0.08      ,\n",
              "        0.19555556, 0.36444444, 0.47555556, 0.84      , 1.01333333,\n",
              "        0.97777778, 0.98666667, 0.96444444, 1.00444444, 0.88888889,\n",
              "        0.91111111, 0.93777778, 1.02222222, 0.99555556, 1.04      ,\n",
              "        0.78222222, 0.83555556, 1.11111111, 1.10222222, 1.03555556,\n",
              "        1.05777778, 0.95555556, 0.        ],\n",
              "       [0.        , 0.25333333, 0.83111111, 0.92444444, 0.99555556,\n",
              "        0.98222222, 0.99555556, 0.92444444, 0.90666667, 0.95111111,\n",
              "        0.92444444, 0.92888889, 0.88888889, 0.70666667, 1.08888889,\n",
              "        0.85777778, 0.91555556, 0.99111111, 1.13333333, 1.13333333,\n",
              "        0.98222222, 1.04      , 0.98222222, 0.93777778, 0.97777778,\n",
              "        1.03111111, 1.09333333, 0.        ],\n",
              "       [0.01333333, 0.89777778, 1.01333333, 0.99555556, 0.98222222,\n",
              "        0.93777778, 0.93777778, 0.95111111, 0.91111111, 0.91111111,\n",
              "        0.91111111, 0.97777778, 1.06666667, 0.35555556, 0.66666667,\n",
              "        1.13333333, 1.01777778, 0.98222222, 0.83555556, 0.68444444,\n",
              "        0.84888889, 0.93333333, 0.90666667, 0.92888889, 0.98666667,\n",
              "        1.01333333, 1.        , 0.        ],\n",
              "       [0.43555556, 1.03555556, 0.88      , 0.93333333, 0.98666667,\n",
              "        1.01777778, 1.01777778, 1.04      , 1.10666667, 0.97777778,\n",
              "        0.86222222, 0.95555556, 0.96444444, 1.07111111, 0.28888889,\n",
              "        0.32444444, 0.47111111, 0.52      , 0.74666667, 0.97333333,\n",
              "        0.98222222, 0.95555556, 0.96444444, 0.99111111, 0.99111111,\n",
              "        0.99555556, 1.01777778, 0.12888889],\n",
              "       [0.33333333, 0.90666667, 0.94222222, 0.90666667, 0.85777778,\n",
              "        0.91111111, 0.93777778, 1.        , 0.96      , 0.82222222,\n",
              "        0.87555556, 0.91555556, 0.88      , 0.94666667, 1.06666667,\n",
              "        0.86666667, 1.00888889, 1.08888889, 1.06222222, 0.99111111,\n",
              "        0.96888889, 0.94222222, 0.92888889, 0.98666667, 0.97777778,\n",
              "        0.98222222, 1.02222222, 0.29777778],\n",
              "       [0.21333333, 0.90222222, 0.81333333, 0.86222222, 0.94666667,\n",
              "        0.87555556, 0.82222222, 0.84444444, 0.86222222, 0.85333333,\n",
              "        0.89777778, 0.95111111, 0.97333333, 0.98222222, 0.97777778,\n",
              "        1.04888889, 1.        , 0.96      , 0.88444444, 0.91555556,\n",
              "        0.82666667, 0.80444444, 0.78666667, 0.76444444, 0.80444444,\n",
              "        0.91111111, 0.91555556, 0.51111111],\n",
              "       [0.        , 0.54222222, 0.97333333, 0.85777778, 0.79555556,\n",
              "        0.76      , 0.81333333, 0.87111111, 0.90666667, 0.93333333,\n",
              "        0.94666667, 0.92      , 0.93777778, 0.93333333, 0.88888889,\n",
              "        0.87111111, 0.86222222, 0.84888889, 0.86666667, 0.84888889,\n",
              "        0.88      , 0.85333333, 0.78222222, 0.69333333, 0.74222222,\n",
              "        0.78666667, 0.93333333, 0.40888889],\n",
              "       [0.        , 0.        , 0.32888889, 0.84      , 0.94222222,\n",
              "        0.84888889, 0.77777778, 0.76444444, 0.77777778, 0.80444444,\n",
              "        0.82222222, 0.83555556, 0.84      , 0.83555556, 0.85777778,\n",
              "        0.88      , 0.90666667, 0.92888889, 0.93333333, 0.93333333,\n",
              "        0.93777778, 0.83555556, 0.83555556, 0.86222222, 0.85333333,\n",
              "        0.96      , 0.75555556, 0.        ],\n",
              "       [0.00888889, 0.        , 0.        , 0.        , 0.29333333,\n",
              "        0.88888889, 0.98666667, 1.05333333, 1.06222222, 1.07555556,\n",
              "        1.09333333, 1.08      , 1.08444444, 0.98222222, 0.97777778,\n",
              "        0.85777778, 0.84888889, 0.79555556, 0.80888889, 0.80888889,\n",
              "        0.80444444, 0.78222222, 0.73777778, 0.74666667, 0.44      ,\n",
              "        0.25777778, 0.        , 0.        ],\n",
              "       [0.        , 0.        , 0.        , 0.        , 0.        ,\n",
              "        0.        , 0.        , 0.17777778, 0.27111111, 0.19555556,\n",
              "        0.32      , 0.18222222, 0.15555556, 0.        , 0.        ,\n",
              "        0.        , 0.        , 0.        , 0.        , 0.        ,\n",
              "        0.        , 0.        , 0.        , 0.        , 0.        ,\n",
              "        0.        , 0.        , 0.        ],\n",
              "       [0.        , 0.        , 0.        , 0.        , 0.        ,\n",
              "        0.        , 0.        , 0.        , 0.        , 0.        ,\n",
              "        0.        , 0.        , 0.        , 0.        , 0.        ,\n",
              "        0.        , 0.        , 0.        , 0.        , 0.        ,\n",
              "        0.        , 0.        , 0.        , 0.        , 0.        ,\n",
              "        0.        , 0.        , 0.        ],\n",
              "       [0.        , 0.        , 0.        , 0.        , 0.        ,\n",
              "        0.        , 0.        , 0.        , 0.        , 0.        ,\n",
              "        0.        , 0.        , 0.        , 0.        , 0.        ,\n",
              "        0.        , 0.        , 0.        , 0.        , 0.        ,\n",
              "        0.        , 0.        , 0.        , 0.        , 0.        ,\n",
              "        0.        , 0.        , 0.        ]])"
            ]
          },
          "metadata": {},
          "execution_count": 37
        }
      ]
    },
    {
      "cell_type": "code",
      "source": [],
      "metadata": {
        "id": "Pz5kSjdEiWXC"
      },
      "execution_count": null,
      "outputs": []
    }
  ]
}