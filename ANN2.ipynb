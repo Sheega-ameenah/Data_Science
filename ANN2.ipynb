{
  "nbformat": 4,
  "nbformat_minor": 0,
  "metadata": {
    "colab": {
      "provenance": [],
      "authorship_tag": "ABX9TyNIj68zJmSR5T1k6ZuuLquz",
      "include_colab_link": true
    },
    "kernelspec": {
      "name": "python3",
      "display_name": "Python 3"
    },
    "language_info": {
      "name": "python"
    }
  },
  "cells": [
    {
      "cell_type": "markdown",
      "metadata": {
        "id": "view-in-github",
        "colab_type": "text"
      },
      "source": [
        "<a href=\"https://colab.research.google.com/github/Sheega-ameenah/Data_Science/blob/main/ANN2.ipynb\" target=\"_parent\"><img src=\"https://colab.research.google.com/assets/colab-badge.svg\" alt=\"Open In Colab\"/></a>"
      ]
    },
    {
      "cell_type": "markdown",
      "source": [
        "**Creating Neural network for Regression problem**"
      ],
      "metadata": {
        "id": "6UjLF0JQgsac"
      }
    },
    {
      "cell_type": "code",
      "execution_count": 1,
      "metadata": {
        "id": "7uT-PEg9gnho"
      },
      "outputs": [],
      "source": [
        "import numpy as np\n",
        "import pandas as pd\n",
        "%matplotlib inline\n",
        "import matplotlib as mpl\n",
        "import matplotlib.pyplot as plt"
      ]
    },
    {
      "cell_type": "code",
      "source": [
        "import tensorflow as tf\n",
        "from tensorflow import keras"
      ],
      "metadata": {
        "id": "ogrBTYnOh_uj"
      },
      "execution_count": 2,
      "outputs": []
    },
    {
      "cell_type": "code",
      "source": [
        "from sklearn.datasets import fetch_california_housing\n",
        "housing= fetch_california_housing()"
      ],
      "metadata": {
        "id": "Yfm1pvUIiMbK"
      },
      "execution_count": 3,
      "outputs": []
    },
    {
      "cell_type": "code",
      "source": [
        "housing.feature_names"
      ],
      "metadata": {
        "colab": {
          "base_uri": "https://localhost:8080/"
        },
        "id": "lh3Kv3bbit5p",
        "outputId": "d7702c16-d208-4918-d26c-c5dd4086ea05"
      },
      "execution_count": 4,
      "outputs": [
        {
          "output_type": "execute_result",
          "data": {
            "text/plain": [
              "['MedInc',\n",
              " 'HouseAge',\n",
              " 'AveRooms',\n",
              " 'AveBedrms',\n",
              " 'Population',\n",
              " 'AveOccup',\n",
              " 'Latitude',\n",
              " 'Longitude']"
            ]
          },
          "metadata": {},
          "execution_count": 4
        }
      ]
    },
    {
      "cell_type": "code",
      "source": [
        "from sklearn.model_selection import train_test_split\n",
        "X_train_full, X_test, y_train_full ,y_test = train_test_split(housing.data, housing.target,random_state=42)\n",
        "X_train,X_valid, y_train, y_valid = train_test_split(X_train_full, y_train_full, random_state=42)"
      ],
      "metadata": {
        "id": "laTY50EQjg3R"
      },
      "execution_count": 5,
      "outputs": []
    },
    {
      "cell_type": "code",
      "source": [
        "from sklearn.preprocessing import StandardScaler\n",
        "scaler= StandardScaler()\n",
        "X_train= scaler.fit_transform(X_train)\n",
        "X_valid= scaler.transform(X_valid)\n",
        "X_test= scaler.transform(X_test)\n"
      ],
      "metadata": {
        "id": "-k7OGaGTk84R"
      },
      "execution_count": 6,
      "outputs": []
    },
    {
      "cell_type": "code",
      "source": [
        "np.random.seed(42)\n",
        "tf.random.set_seed(42)"
      ],
      "metadata": {
        "id": "kFrjIJHymnZL"
      },
      "execution_count": 7,
      "outputs": []
    },
    {
      "cell_type": "code",
      "source": [
        "X_train.shape"
      ],
      "metadata": {
        "colab": {
          "base_uri": "https://localhost:8080/"
        },
        "id": "pc9VspORm5nH",
        "outputId": "0762686e-bf00-4dea-8f9e-2fe7d168a774"
      },
      "execution_count": 8,
      "outputs": [
        {
          "output_type": "execute_result",
          "data": {
            "text/plain": [
              "(11610, 8)"
            ]
          },
          "metadata": {},
          "execution_count": 8
        }
      ]
    },
    {
      "cell_type": "code",
      "source": [
        "model= keras.models.Sequential([\n",
        "    keras.layers.Dense(30, activation='relu', input_shape=[8]),\n",
        "    keras.layers.Dense(30, activation='relu'),\n",
        "    keras.layers.Dense(1)\n",
        "])"
      ],
      "metadata": {
        "id": "Ofxi_lBom-if"
      },
      "execution_count": 9,
      "outputs": []
    },
    {
      "cell_type": "code",
      "source": [
        "model.summary()"
      ],
      "metadata": {
        "colab": {
          "base_uri": "https://localhost:8080/"
        },
        "id": "QD0nn3nYyrGs",
        "outputId": "6197340d-c76c-40aa-9881-41681f7e1710"
      },
      "execution_count": 10,
      "outputs": [
        {
          "output_type": "stream",
          "name": "stdout",
          "text": [
            "Model: \"sequential\"\n",
            "_________________________________________________________________\n",
            " Layer (type)                Output Shape              Param #   \n",
            "=================================================================\n",
            " dense (Dense)               (None, 30)                270       \n",
            "                                                                 \n",
            " dense_1 (Dense)             (None, 30)                930       \n",
            "                                                                 \n",
            " dense_2 (Dense)             (None, 1)                 31        \n",
            "                                                                 \n",
            "=================================================================\n",
            "Total params: 1231 (4.81 KB)\n",
            "Trainable params: 1231 (4.81 KB)\n",
            "Non-trainable params: 0 (0.00 Byte)\n",
            "_________________________________________________________________\n"
          ]
        }
      ]
    },
    {
      "cell_type": "code",
      "source": [
        "model.compile(loss='mean_squared_error',\n",
        "              optimizer= keras.optimizers.SGD(learning_rate=1e-3),\n",
        "              metrics= ['mae'])"
      ],
      "metadata": {
        "id": "24LpV0BazYox"
      },
      "execution_count": 11,
      "outputs": []
    },
    {
      "cell_type": "code",
      "source": [
        "model_history= model.fit(X_test,y_test, epochs=20, validation_data=(X_valid,y_valid))"
      ],
      "metadata": {
        "colab": {
          "base_uri": "https://localhost:8080/"
        },
        "id": "HGYG04yP0dIi",
        "outputId": "896842a3-960b-4524-ac47-a758542ef6b9"
      },
      "execution_count": 12,
      "outputs": [
        {
          "output_type": "stream",
          "name": "stdout",
          "text": [
            "Epoch 1/20\n",
            "162/162 [==============================] - 2s 7ms/step - loss: 2.6098 - mae: 1.2286 - val_loss: 8.9206 - val_mae: 0.9282\n",
            "Epoch 2/20\n",
            "162/162 [==============================] - 1s 9ms/step - loss: 1.3258 - mae: 0.8001 - val_loss: 4.5124 - val_mae: 0.7607\n",
            "Epoch 3/20\n",
            "162/162 [==============================] - 1s 8ms/step - loss: 0.8566 - mae: 0.6904 - val_loss: 1.7973 - val_mae: 0.6753\n",
            "Epoch 4/20\n",
            "162/162 [==============================] - 1s 6ms/step - loss: 0.7452 - mae: 0.6433 - val_loss: 0.8874 - val_mae: 0.6278\n",
            "Epoch 5/20\n",
            "162/162 [==============================] - 1s 8ms/step - loss: 0.6976 - mae: 0.6183 - val_loss: 0.6718 - val_mae: 0.5982\n",
            "Epoch 6/20\n",
            "162/162 [==============================] - 2s 10ms/step - loss: 0.6691 - mae: 0.6023 - val_loss: 0.6556 - val_mae: 0.5872\n",
            "Epoch 7/20\n",
            "162/162 [==============================] - 2s 12ms/step - loss: 0.6474 - mae: 0.5908 - val_loss: 0.6586 - val_mae: 0.5799\n",
            "Epoch 8/20\n",
            "162/162 [==============================] - 1s 9ms/step - loss: 0.6284 - mae: 0.5828 - val_loss: 0.6526 - val_mae: 0.5715\n",
            "Epoch 9/20\n",
            "162/162 [==============================] - 1s 8ms/step - loss: 0.6103 - mae: 0.5729 - val_loss: 0.6408 - val_mae: 0.5636\n",
            "Epoch 10/20\n",
            "162/162 [==============================] - 1s 7ms/step - loss: 0.5946 - mae: 0.5655 - val_loss: 0.6225 - val_mae: 0.5571\n",
            "Epoch 11/20\n",
            "162/162 [==============================] - 1s 9ms/step - loss: 0.5784 - mae: 0.5576 - val_loss: 0.6154 - val_mae: 0.5481\n",
            "Epoch 12/20\n",
            "162/162 [==============================] - 1s 5ms/step - loss: 0.5634 - mae: 0.5487 - val_loss: 0.5810 - val_mae: 0.5474\n",
            "Epoch 13/20\n",
            "162/162 [==============================] - 1s 5ms/step - loss: 0.5501 - mae: 0.5443 - val_loss: 0.5726 - val_mae: 0.5353\n",
            "Epoch 14/20\n",
            "162/162 [==============================] - 1s 6ms/step - loss: 0.5364 - mae: 0.5365 - val_loss: 0.5623 - val_mae: 0.5261\n",
            "Epoch 15/20\n",
            "162/162 [==============================] - 1s 6ms/step - loss: 0.5238 - mae: 0.5283 - val_loss: 0.5355 - val_mae: 0.5204\n",
            "Epoch 16/20\n",
            "162/162 [==============================] - 2s 12ms/step - loss: 0.5117 - mae: 0.5234 - val_loss: 0.5248 - val_mae: 0.5108\n",
            "Epoch 17/20\n",
            "162/162 [==============================] - 3s 17ms/step - loss: 0.5007 - mae: 0.5156 - val_loss: 0.4990 - val_mae: 0.5065\n",
            "Epoch 18/20\n",
            "162/162 [==============================] - 1s 7ms/step - loss: 0.4897 - mae: 0.5107 - val_loss: 0.4817 - val_mae: 0.5012\n",
            "Epoch 19/20\n",
            "162/162 [==============================] - 1s 7ms/step - loss: 0.4801 - mae: 0.5060 - val_loss: 0.4656 - val_mae: 0.4961\n",
            "Epoch 20/20\n",
            "162/162 [==============================] - 1s 6ms/step - loss: 0.4703 - mae: 0.5003 - val_loss: 0.4523 - val_mae: 0.4907\n"
          ]
        }
      ]
    },
    {
      "cell_type": "code",
      "source": [
        "model_history.history"
      ],
      "metadata": {
        "colab": {
          "base_uri": "https://localhost:8080/"
        },
        "id": "DjDmDJuW1R_R",
        "outputId": "1785cc40-a5b5-4d5e-a64e-7d785bccd741"
      },
      "execution_count": 13,
      "outputs": [
        {
          "output_type": "execute_result",
          "data": {
            "text/plain": [
              "{'loss': [2.609841823577881,\n",
              "  1.3257609605789185,\n",
              "  0.8565865755081177,\n",
              "  0.7452305555343628,\n",
              "  0.697627604007721,\n",
              "  0.6690936088562012,\n",
              "  0.6474342346191406,\n",
              "  0.6284040212631226,\n",
              "  0.6102874279022217,\n",
              "  0.5946487784385681,\n",
              "  0.5783991813659668,\n",
              "  0.563431441783905,\n",
              "  0.5501341223716736,\n",
              "  0.5364208817481995,\n",
              "  0.5238007307052612,\n",
              "  0.5117368102073669,\n",
              "  0.5007355213165283,\n",
              "  0.48968586325645447,\n",
              "  0.4800868332386017,\n",
              "  0.4703215956687927],\n",
              " 'mae': [1.2286497354507446,\n",
              "  0.8001475930213928,\n",
              "  0.6904228329658508,\n",
              "  0.6433179378509521,\n",
              "  0.618338942527771,\n",
              "  0.6023121476173401,\n",
              "  0.5907865166664124,\n",
              "  0.5828253030776978,\n",
              "  0.5729359984397888,\n",
              "  0.5654861927032471,\n",
              "  0.5576070547103882,\n",
              "  0.548686683177948,\n",
              "  0.544342577457428,\n",
              "  0.5364907383918762,\n",
              "  0.5283050537109375,\n",
              "  0.5234135985374451,\n",
              "  0.5155736207962036,\n",
              "  0.5106555223464966,\n",
              "  0.5059599876403809,\n",
              "  0.5003087520599365],\n",
              " 'val_loss': [8.92059326171875,\n",
              "  4.512385368347168,\n",
              "  1.7972856760025024,\n",
              "  0.8873626589775085,\n",
              "  0.6717652082443237,\n",
              "  0.6555694937705994,\n",
              "  0.6586467623710632,\n",
              "  0.6526292562484741,\n",
              "  0.6408261060714722,\n",
              "  0.6225138306617737,\n",
              "  0.6153532862663269,\n",
              "  0.5809942483901978,\n",
              "  0.5725762844085693,\n",
              "  0.5622557401657104,\n",
              "  0.5355218052864075,\n",
              "  0.524833083152771,\n",
              "  0.4990203082561493,\n",
              "  0.4816696345806122,\n",
              "  0.46560683846473694,\n",
              "  0.45229095220565796],\n",
              " 'val_mae': [0.9282020926475525,\n",
              "  0.760724663734436,\n",
              "  0.6753386855125427,\n",
              "  0.6277587413787842,\n",
              "  0.5982349514961243,\n",
              "  0.5871862173080444,\n",
              "  0.5799375176429749,\n",
              "  0.5714999437332153,\n",
              "  0.5636323690414429,\n",
              "  0.5570627450942993,\n",
              "  0.5481065511703491,\n",
              "  0.5474212765693665,\n",
              "  0.5353471040725708,\n",
              "  0.526056706905365,\n",
              "  0.5204328298568726,\n",
              "  0.5108373761177063,\n",
              "  0.5065319538116455,\n",
              "  0.5011586546897888,\n",
              "  0.4960981607437134,\n",
              "  0.4907076060771942]}"
            ]
          },
          "metadata": {},
          "execution_count": 13
        }
      ]
    },
    {
      "cell_type": "code",
      "source": [
        "mae_test= model.evaluate(X_test, y_test)"
      ],
      "metadata": {
        "colab": {
          "base_uri": "https://localhost:8080/"
        },
        "id": "MQ5Vdrtzp1TK",
        "outputId": "65fe19c9-4ffa-4736-972c-e032f5a5c293"
      },
      "execution_count": 14,
      "outputs": [
        {
          "output_type": "stream",
          "name": "stdout",
          "text": [
            "162/162 [==============================] - 1s 4ms/step - loss: 0.4649 - mae: 0.4980\n"
          ]
        }
      ]
    },
    {
      "cell_type": "code",
      "source": [
        "pd.DataFrame(model_history.history).plot(figsize=(8,5))\n",
        "plt.grid(True)\n",
        "plt.gca().set_ylim(0,1)\n",
        "plt.show()"
      ],
      "metadata": {
        "colab": {
          "base_uri": "https://localhost:8080/",
          "height": 451
        },
        "id": "2Sqb_AGg1iWR",
        "outputId": "0ee6ecfc-8592-4b32-9ba6-e08bbe254ae9"
      },
      "execution_count": 15,
      "outputs": [
        {
          "output_type": "display_data",
          "data": {
            "text/plain": [
              "<Figure size 800x500 with 1 Axes>"
            ],
            "image/png": "[encoded data removed]"
          },
          "metadata": {}
        }
      ]
    },
    {
      "cell_type": "code",
      "source": [
        "X_new= X_test[:3]"
      ],
      "metadata": {
        "id": "DQ9A4BLK39oJ"
      },
      "execution_count": 16,
      "outputs": []
    },
    {
      "cell_type": "code",
      "source": [
        "y_pred= model.predict(X_new)\n",
        "print(y_pred)\n",
        "print(y_test[:3])"
      ],
      "metadata": {
        "colab": {
          "base_uri": "https://localhost:8080/"
        },
        "id": "Qr7Vv7ExxDIV",
        "outputId": "7ea9c57a-092f-48fc-eb65-675621a0ec66"
      },
      "execution_count": 17,
      "outputs": [
        {
          "output_type": "stream",
          "name": "stdout",
          "text": [
            "1/1 [==============================] - 0s 101ms/step\n",
            "[[0.7028322]\n",
            " [1.640547 ]\n",
            " [3.0608199]]\n",
            "[0.477   0.458   5.00001]\n"
          ]
        }
      ]
    },
    {
      "cell_type": "markdown",
      "source": [
        "**Using functional API for complex architectures**"
      ],
      "metadata": {
        "id": "UFYvaa5F2XFQ"
      }
    },
    {
      "cell_type": "code",
      "source": [
        "del model"
      ],
      "metadata": {
        "id": "II_DeO21xXg7"
      },
      "execution_count": 18,
      "outputs": []
    },
    {
      "cell_type": "code",
      "source": [
        "keras.backend.clear_session()"
      ],
      "metadata": {
        "id": "zrUIdoI72bhN"
      },
      "execution_count": 19,
      "outputs": []
    },
    {
      "cell_type": "code",
      "source": [
        "X_train.shape[:1]"
      ],
      "metadata": {
        "colab": {
          "base_uri": "https://localhost:8080/"
        },
        "id": "07VfH4AuAGDu",
        "outputId": "94765bbe-c64d-4f99-eeab-1a3717b42865"
      },
      "execution_count": 20,
      "outputs": [
        {
          "output_type": "execute_result",
          "data": {
            "text/plain": [
              "(11610,)"
            ]
          },
          "metadata": {},
          "execution_count": 20
        }
      ]
    },
    {
      "cell_type": "code",
      "source": [
        "input_= keras.layers.Input(shape=X_train.shape[1:])\n",
        "hidden1 = keras.layers.Dense(30, activation= 'relu')(input_)\n",
        "hidden2 = keras.layers.Dense(30, activation= 'relu')(hidden1)\n",
        "concat = keras.layers.concatenate([input_, hidden2])\n",
        "output = keras.layers.Dense(1)(concat)\n",
        "model= keras.models.Model(inputs= [input_],outputs=[output])"
      ],
      "metadata": {
        "id": "WyFM3Q0E2h9k"
      },
      "execution_count": 21,
      "outputs": []
    },
    {
      "cell_type": "code",
      "source": [
        "model.summary()"
      ],
      "metadata": {
        "colab": {
          "base_uri": "https://localhost:8080/"
        },
        "id": "UyhZwOAk5En9",
        "outputId": "381c90bf-aabd-4d32-ace6-845441ff6ca4"
      },
      "execution_count": 22,
      "outputs": [
        {
          "output_type": "stream",
          "name": "stdout",
          "text": [
            "Model: \"model\"\n",
            "__________________________________________________________________________________________________\n",
            " Layer (type)                Output Shape                 Param #   Connected to                  \n",
            "==================================================================================================\n",
            " input_1 (InputLayer)        [(None, 8)]                  0         []                            \n",
            "                                                                                                  \n",
            " dense (Dense)               (None, 30)                   270       ['input_1[0][0]']             \n",
            "                                                                                                  \n",
            " dense_1 (Dense)             (None, 30)                   930       ['dense[0][0]']               \n",
            "                                                                                                  \n",
            " concatenate (Concatenate)   (None, 38)                   0         ['input_1[0][0]',             \n",
            "                                                                     'dense_1[0][0]']             \n",
            "                                                                                                  \n",
            " dense_2 (Dense)             (None, 1)                    39        ['concatenate[0][0]']         \n",
            "                                                                                                  \n",
            "==================================================================================================\n",
            "Total params: 1239 (4.84 KB)\n",
            "Trainable params: 1239 (4.84 KB)\n",
            "Non-trainable params: 0 (0.00 Byte)\n",
            "__________________________________________________________________________________________________\n"
          ]
        }
      ]
    },
    {
      "cell_type": "code",
      "source": [
        "model.compile(loss= 'mean_squared_error',\n",
        "            optimizer = keras.optimizers.SGD(learning_rate=1e-3),\n",
        "              metrics= ['mae'])"
      ],
      "metadata": {
        "id": "noBRxrIO5oQD"
      },
      "execution_count": 23,
      "outputs": []
    },
    {
      "cell_type": "code",
      "source": [
        "model_history= model.fit(X_train,y_train, epochs=40, validation_data=(X_valid, y_valid))"
      ],
      "metadata": {
        "colab": {
          "base_uri": "https://localhost:8080/"
        },
        "id": "hyZdj2He9vjr",
        "outputId": "d4e4b77d-d3f4-4d29-b5ef-0c553e3b40c0"
      },
      "execution_count": 28,
      "outputs": [
        {
          "output_type": "stream",
          "name": "stdout",
          "text": [
            "Epoch 1/40\n",
            "363/363 [==============================] - 1s 2ms/step - loss: 0.3765 - mae: 0.4412 - val_loss: 0.3695 - val_mae: 0.4289\n",
            "Epoch 2/40\n",
            "363/363 [==============================] - 1s 3ms/step - loss: 0.3749 - mae: 0.4401 - val_loss: 0.4671 - val_mae: 0.4368\n",
            "Epoch 3/40\n",
            "363/363 [==============================] - 1s 2ms/step - loss: 0.3737 - mae: 0.4399 - val_loss: 0.3989 - val_mae: 0.4294\n",
            "Epoch 4/40\n",
            "363/363 [==============================] - 1s 3ms/step - loss: 0.3720 - mae: 0.4383 - val_loss: 0.3694 - val_mae: 0.4295\n",
            "Epoch 5/40\n",
            "363/363 [==============================] - 1s 3ms/step - loss: 0.3709 - mae: 0.4377 - val_loss: 0.3677 - val_mae: 0.4274\n",
            "Epoch 6/40\n",
            "363/363 [==============================] - 1s 3ms/step - loss: 0.3693 - mae: 0.4368 - val_loss: 0.4065 - val_mae: 0.4282\n",
            "Epoch 7/40\n",
            "363/363 [==============================] - 1s 2ms/step - loss: 0.3684 - mae: 0.4356 - val_loss: 0.3663 - val_mae: 0.4262\n",
            "Epoch 8/40\n",
            "363/363 [==============================] - 1s 3ms/step - loss: 0.3670 - mae: 0.4352 - val_loss: 0.3501 - val_mae: 0.4228\n",
            "Epoch 9/40\n",
            "363/363 [==============================] - 1s 4ms/step - loss: 0.3658 - mae: 0.4344 - val_loss: 0.3985 - val_mae: 0.4260\n",
            "Epoch 10/40\n",
            "363/363 [==============================] - 1s 4ms/step - loss: 0.3647 - mae: 0.4337 - val_loss: 0.4061 - val_mae: 0.4252\n",
            "Epoch 11/40\n",
            "363/363 [==============================] - 1s 3ms/step - loss: 0.3641 - mae: 0.4326 - val_loss: 0.3446 - val_mae: 0.4205\n",
            "Epoch 12/40\n",
            "363/363 [==============================] - 1s 3ms/step - loss: 0.3625 - mae: 0.4320 - val_loss: 0.5371 - val_mae: 0.4304\n",
            "Epoch 13/40\n",
            "363/363 [==============================] - 1s 3ms/step - loss: 0.3625 - mae: 0.4313 - val_loss: 0.3537 - val_mae: 0.4227\n",
            "Epoch 14/40\n",
            "363/363 [==============================] - 1s 2ms/step - loss: 0.3607 - mae: 0.4305 - val_loss: 0.3456 - val_mae: 0.4204\n",
            "Epoch 15/40\n",
            "363/363 [==============================] - 1s 3ms/step - loss: 0.3597 - mae: 0.4301 - val_loss: 0.3928 - val_mae: 0.4245\n",
            "Epoch 16/40\n",
            "363/363 [==============================] - 1s 4ms/step - loss: 0.3591 - mae: 0.4297 - val_loss: 0.3419 - val_mae: 0.4191\n",
            "Epoch 17/40\n",
            "363/363 [==============================] - 2s 4ms/step - loss: 0.3580 - mae: 0.4289 - val_loss: 0.4262 - val_mae: 0.4249\n",
            "Epoch 18/40\n",
            "363/363 [==============================] - 2s 4ms/step - loss: 0.3575 - mae: 0.4285 - val_loss: 0.3662 - val_mae: 0.4197\n",
            "Epoch 19/40\n",
            "363/363 [==============================] - 1s 3ms/step - loss: 0.3563 - mae: 0.4274 - val_loss: 0.3721 - val_mae: 0.4211\n",
            "Epoch 20/40\n",
            "363/363 [==============================] - 1s 3ms/step - loss: 0.3556 - mae: 0.4271 - val_loss: 0.4521 - val_mae: 0.4256\n",
            "Epoch 21/40\n",
            "363/363 [==============================] - 1s 3ms/step - loss: 0.3553 - mae: 0.4263 - val_loss: 0.3630 - val_mae: 0.4214\n",
            "Epoch 22/40\n",
            "363/363 [==============================] - 1s 3ms/step - loss: 0.3540 - mae: 0.4263 - val_loss: 0.5134 - val_mae: 0.4284\n",
            "Epoch 23/40\n",
            "363/363 [==============================] - 1s 3ms/step - loss: 0.3541 - mae: 0.4263 - val_loss: 0.3508 - val_mae: 0.4152\n",
            "Epoch 24/40\n",
            "363/363 [==============================] - 1s 3ms/step - loss: 0.3530 - mae: 0.4244 - val_loss: 0.4628 - val_mae: 0.4234\n",
            "Epoch 25/40\n",
            "363/363 [==============================] - 1s 3ms/step - loss: 0.3524 - mae: 0.4245 - val_loss: 0.4219 - val_mae: 0.4220\n",
            "Epoch 26/40\n",
            "363/363 [==============================] - 1s 2ms/step - loss: 0.3516 - mae: 0.4242 - val_loss: 0.4235 - val_mae: 0.4214\n",
            "Epoch 27/40\n",
            "363/363 [==============================] - 1s 3ms/step - loss: 0.3514 - mae: 0.4238 - val_loss: 0.3361 - val_mae: 0.4139\n",
            "Epoch 28/40\n",
            "363/363 [==============================] - 1s 2ms/step - loss: 0.3506 - mae: 0.4229 - val_loss: 0.4429 - val_mae: 0.4234\n",
            "Epoch 29/40\n",
            "363/363 [==============================] - 1s 2ms/step - loss: 0.3502 - mae: 0.4229 - val_loss: 0.3474 - val_mae: 0.4170\n",
            "Epoch 30/40\n",
            "363/363 [==============================] - 1s 3ms/step - loss: 0.3490 - mae: 0.4225 - val_loss: 0.4514 - val_mae: 0.4206\n",
            "Epoch 31/40\n",
            "363/363 [==============================] - 1s 3ms/step - loss: 0.3492 - mae: 0.4217 - val_loss: 0.3568 - val_mae: 0.4158\n",
            "Epoch 32/40\n",
            "363/363 [==============================] - 1s 4ms/step - loss: 0.3480 - mae: 0.4213 - val_loss: 0.4476 - val_mae: 0.4223\n",
            "Epoch 33/40\n",
            "363/363 [==============================] - 1s 4ms/step - loss: 0.3482 - mae: 0.4215 - val_loss: 0.3356 - val_mae: 0.4135\n",
            "Epoch 34/40\n",
            "363/363 [==============================] - 1s 3ms/step - loss: 0.3472 - mae: 0.4207 - val_loss: 0.3469 - val_mae: 0.4146\n",
            "Epoch 35/40\n",
            "363/363 [==============================] - 1s 2ms/step - loss: 0.3465 - mae: 0.4203 - val_loss: 0.4601 - val_mae: 0.4223\n",
            "Epoch 36/40\n",
            "363/363 [==============================] - 1s 2ms/step - loss: 0.3465 - mae: 0.4205 - val_loss: 0.3346 - val_mae: 0.4112\n",
            "Epoch 37/40\n",
            "363/363 [==============================] - 1s 2ms/step - loss: 0.3459 - mae: 0.4194 - val_loss: 0.4167 - val_mae: 0.4191\n",
            "Epoch 38/40\n",
            "363/363 [==============================] - 1s 2ms/step - loss: 0.3454 - mae: 0.4194 - val_loss: 0.3336 - val_mae: 0.4124\n",
            "Epoch 39/40\n",
            "363/363 [==============================] - 1s 3ms/step - loss: 0.3449 - mae: 0.4192 - val_loss: 0.3624 - val_mae: 0.4140\n",
            "Epoch 40/40\n",
            "363/363 [==============================] - 1s 2ms/step - loss: 0.3443 - mae: 0.4187 - val_loss: 0.3750 - val_mae: 0.4143\n"
          ]
        }
      ]
    },
    {
      "cell_type": "code",
      "source": [
        "model_history.history"
      ],
      "metadata": {
        "colab": {
          "base_uri": "https://localhost:8080/"
        },
        "id": "9uaU0trB-I9r",
        "outputId": "a241ef71-00de-44e5-b9f0-82c5fd23717d"
      },
      "execution_count": 29,
      "outputs": [
        {
          "output_type": "execute_result",
          "data": {
            "text/plain": [
              "{'loss': [0.3764931857585907,\n",
              "  0.37485626339912415,\n",
              "  0.37367549538612366,\n",
              "  0.37201908230781555,\n",
              "  0.3709457814693451,\n",
              "  0.3693009912967682,\n",
              "  0.36842018365859985,\n",
              "  0.36695873737335205,\n",
              "  0.36576253175735474,\n",
              "  0.36466506123542786,\n",
              "  0.36406728625297546,\n",
              "  0.36249127984046936,\n",
              "  0.3625372350215912,\n",
              "  0.3607499301433563,\n",
              "  0.3597407639026642,\n",
              "  0.35911068320274353,\n",
              "  0.35804006457328796,\n",
              "  0.35754668712615967,\n",
              "  0.35632413625717163,\n",
              "  0.3556424379348755,\n",
              "  0.3552919030189514,\n",
              "  0.35395124554634094,\n",
              "  0.3540671467781067,\n",
              "  0.35296738147735596,\n",
              "  0.35236141085624695,\n",
              "  0.35161250829696655,\n",
              "  0.3513704240322113,\n",
              "  0.35055404901504517,\n",
              "  0.3502368927001953,\n",
              "  0.34900978207588196,\n",
              "  0.34916719794273376,\n",
              "  0.34798920154571533,\n",
              "  0.34816476702690125,\n",
              "  0.3471938669681549,\n",
              "  0.3465214967727661,\n",
              "  0.3465244472026825,\n",
              "  0.3459339439868927,\n",
              "  0.3454410433769226,\n",
              "  0.34489989280700684,\n",
              "  0.3443025052547455],\n",
              " 'mae': [0.4412308633327484,\n",
              "  0.44011425971984863,\n",
              "  0.43989336490631104,\n",
              "  0.4383085370063782,\n",
              "  0.43772903084754944,\n",
              "  0.4368424415588379,\n",
              "  0.43563657999038696,\n",
              "  0.43520528078079224,\n",
              "  0.43438711762428284,\n",
              "  0.43365275859832764,\n",
              "  0.4325927495956421,\n",
              "  0.43204647302627563,\n",
              "  0.4312518835067749,\n",
              "  0.4305444061756134,\n",
              "  0.430080771446228,\n",
              "  0.4296802580356598,\n",
              "  0.4288591742515564,\n",
              "  0.4284549355506897,\n",
              "  0.4274083077907562,\n",
              "  0.42706015706062317,\n",
              "  0.4262956976890564,\n",
              "  0.426268070936203,\n",
              "  0.42631664872169495,\n",
              "  0.42440250515937805,\n",
              "  0.42446038126945496,\n",
              "  0.4241616427898407,\n",
              "  0.4238150119781494,\n",
              "  0.42287886142730713,\n",
              "  0.4229443371295929,\n",
              "  0.42250001430511475,\n",
              "  0.4216838479042053,\n",
              "  0.42129188776016235,\n",
              "  0.4215397536754608,\n",
              "  0.4206721782684326,\n",
              "  0.42026081681251526,\n",
              "  0.4204719364643097,\n",
              "  0.4193868637084961,\n",
              "  0.4194028377532959,\n",
              "  0.41921237111091614,\n",
              "  0.4187384247779846],\n",
              " 'val_loss': [0.36947837471961975,\n",
              "  0.4671424329280853,\n",
              "  0.3988761007785797,\n",
              "  0.3694058954715729,\n",
              "  0.3677125871181488,\n",
              "  0.40646541118621826,\n",
              "  0.3663099706172943,\n",
              "  0.3501012921333313,\n",
              "  0.3985311686992645,\n",
              "  0.4061364233493805,\n",
              "  0.3445543944835663,\n",
              "  0.5371127724647522,\n",
              "  0.3537161350250244,\n",
              "  0.34559711813926697,\n",
              "  0.39280492067337036,\n",
              "  0.3418579697608948,\n",
              "  0.4262115955352783,\n",
              "  0.36619389057159424,\n",
              "  0.37214523553848267,\n",
              "  0.45214414596557617,\n",
              "  0.36296340823173523,\n",
              "  0.5133981704711914,\n",
              "  0.35084396600723267,\n",
              "  0.46278315782546997,\n",
              "  0.4219476282596588,\n",
              "  0.423545241355896,\n",
              "  0.3360525667667389,\n",
              "  0.44288673996925354,\n",
              "  0.34742411971092224,\n",
              "  0.45143017172813416,\n",
              "  0.35681164264678955,\n",
              "  0.4475685954093933,\n",
              "  0.33557870984077454,\n",
              "  0.3468991816043854,\n",
              "  0.4601142406463623,\n",
              "  0.3346291482448578,\n",
              "  0.41669294238090515,\n",
              "  0.3336314558982849,\n",
              "  0.3624405562877655,\n",
              "  0.37499091029167175],\n",
              " 'val_mae': [0.4289388358592987,\n",
              "  0.4368273615837097,\n",
              "  0.4294413626194,\n",
              "  0.42954903841018677,\n",
              "  0.4274195730686188,\n",
              "  0.4282141923904419,\n",
              "  0.4262225031852722,\n",
              "  0.42276832461357117,\n",
              "  0.42598703503608704,\n",
              "  0.4251800775527954,\n",
              "  0.4205019474029541,\n",
              "  0.4303804636001587,\n",
              "  0.4226631224155426,\n",
              "  0.4204431176185608,\n",
              "  0.42449435591697693,\n",
              "  0.419140100479126,\n",
              "  0.42492660880088806,\n",
              "  0.4196931719779968,\n",
              "  0.4210761487483978,\n",
              "  0.4256298243999481,\n",
              "  0.42135369777679443,\n",
              "  0.42842578887939453,\n",
              "  0.4152158200740814,\n",
              "  0.4233591556549072,\n",
              "  0.4220264256000519,\n",
              "  0.421383798122406,\n",
              "  0.4138725697994232,\n",
              "  0.4233873784542084,\n",
              "  0.4170088768005371,\n",
              "  0.4205694794654846,\n",
              "  0.41581660509109497,\n",
              "  0.42233049869537354,\n",
              "  0.41351988911628723,\n",
              "  0.41459301114082336,\n",
              "  0.42234280705451965,\n",
              "  0.41121670603752136,\n",
              "  0.41905754804611206,\n",
              "  0.4124178886413574,\n",
              "  0.4140253961086273,\n",
              "  0.41434717178344727]}"
            ]
          },
          "metadata": {},
          "execution_count": 29
        }
      ]
    },
    {
      "cell_type": "code",
      "source": [
        "pd.DataFrame(model_history.history).plot(figsize= (8,5))\n",
        "plt.grid(True)\n",
        "plt.gca().set_ylim(0,1)\n",
        "plt.show()"
      ],
      "metadata": {
        "colab": {
          "base_uri": "https://localhost:8080/",
          "height": 451
        },
        "id": "ETyuCk-_IB1R",
        "outputId": "afbb41d0-fb4f-4bdc-b73f-0839bc08d646"
      },
      "execution_count": 30,
      "outputs": [
        {
          "output_type": "display_data",
          "data": {
            "text/plain": [
              "<Figure size 800x500 with 1 Axes>"
            ],
            "image/png": "[encoded data removed]"
          },
          "metadata": {}
        }
      ]
    },
    {
      "cell_type": "markdown",
      "source": [
        "## Saving-restoring models using callbacks"
      ],
      "metadata": {
        "id": "xM73Wuq8gf8A"
      }
    },
    {
      "cell_type": "markdown",
      "source": [
        "### Saving and Restoring"
      ],
      "metadata": {
        "id": "MEJww7PcgxO2"
      }
    },
    {
      "cell_type": "code",
      "source": [
        "model.save('my_func_model.h5')"
      ],
      "metadata": {
        "id": "L6Oz4rzPI39C",
        "colab": {
          "base_uri": "https://localhost:8080/"
        },
        "outputId": "967eae15-c706-4fff-df29-8112dcbfbc6e"
      },
      "execution_count": 31,
      "outputs": [
        {
          "output_type": "stream",
          "name": "stderr",
          "text": [
            "/usr/local/lib/python3.10/dist-packages/keras/src/engine/training.py:3000: UserWarning: You are saving your model as an HDF5 file via `model.save()`. This file format is considered legacy. We recommend using instead the native Keras format, e.g. `model.save('my_model.keras')`.\n",
            "  saving_api.save_model(\n"
          ]
        }
      ]
    },
    {
      "cell_type": "code",
      "source": [
        "%pwd"
      ],
      "metadata": {
        "colab": {
          "base_uri": "https://localhost:8080/",
          "height": 35
        },
        "id": "YWiMkE2khVZI",
        "outputId": "3e90395b-6694-48aa-c56b-e51075fe779c"
      },
      "execution_count": 33,
      "outputs": [
        {
          "output_type": "execute_result",
          "data": {
            "text/plain": [
              "'/content'"
            ],
            "application/vnd.google.colaboratory.intrinsic+json": {
              "type": "string"
            }
          },
          "metadata": {},
          "execution_count": 33
        }
      ]
    },
    {
      "cell_type": "code",
      "source": [
        "del model"
      ],
      "metadata": {
        "id": "SvLjX7R1hqVO"
      },
      "execution_count": 34,
      "outputs": []
    },
    {
      "cell_type": "code",
      "source": [
        "keras.backend.clear_session()"
      ],
      "metadata": {
        "id": "JNevdlqsh5ic"
      },
      "execution_count": 35,
      "outputs": []
    },
    {
      "cell_type": "code",
      "source": [
        "model= keras.models.load_model('my_func_model.h5')"
      ],
      "metadata": {
        "id": "tYDibNeMiKfb"
      },
      "execution_count": 37,
      "outputs": []
    },
    {
      "cell_type": "code",
      "source": [
        "model.summary()"
      ],
      "metadata": {
        "colab": {
          "base_uri": "https://localhost:8080/"
        },
        "id": "u9QcrgCWian-",
        "outputId": "aaa0e989-9fc6-485b-ffcd-e92ff0499a36"
      },
      "execution_count": 38,
      "outputs": [
        {
          "output_type": "stream",
          "name": "stdout",
          "text": [
            "Model: \"model\"\n",
            "__________________________________________________________________________________________________\n",
            " Layer (type)                Output Shape                 Param #   Connected to                  \n",
            "==================================================================================================\n",
            " input_1 (InputLayer)        [(None, 8)]                  0         []                            \n",
            "                                                                                                  \n",
            " dense (Dense)               (None, 30)                   270       ['input_1[0][0]']             \n",
            "                                                                                                  \n",
            " dense_1 (Dense)             (None, 30)                   930       ['dense[0][0]']               \n",
            "                                                                                                  \n",
            " concatenate (Concatenate)   (None, 38)                   0         ['input_1[0][0]',             \n",
            "                                                                     'dense_1[0][0]']             \n",
            "                                                                                                  \n",
            " dense_2 (Dense)             (None, 1)                    39        ['concatenate[0][0]']         \n",
            "                                                                                                  \n",
            "==================================================================================================\n",
            "Total params: 1239 (4.84 KB)\n",
            "Trainable params: 1239 (4.84 KB)\n",
            "Non-trainable params: 0 (0.00 Byte)\n",
            "__________________________________________________________________________________________________\n"
          ]
        }
      ]
    },
    {
      "cell_type": "code",
      "source": [
        "y_pred = model.predict(X_new)\n",
        "y_pred"
      ],
      "metadata": {
        "colab": {
          "base_uri": "https://localhost:8080/"
        },
        "id": "gseovgRcirIs",
        "outputId": "a9afc39a-e103-421a-dd0d-f72888be7804"
      },
      "execution_count": 39,
      "outputs": [
        {
          "output_type": "stream",
          "name": "stdout",
          "text": [
            "1/1 [==============================] - 0s 147ms/step\n"
          ]
        },
        {
          "output_type": "execute_result",
          "data": {
            "text/plain": [
              "array([[0.64222723],\n",
              "       [1.6041319 ],\n",
              "       [4.060818  ]], dtype=float32)"
            ]
          },
          "metadata": {},
          "execution_count": 39
        }
      ]
    },
    {
      "cell_type": "markdown",
      "source": [
        "## Using Callbacks during Training"
      ],
      "metadata": {
        "id": "PzHSP-VYje7q"
      }
    },
    {
      "cell_type": "code",
      "source": [
        "keras.backend.clear_session()\n",
        "np.random.seed(42)\n",
        "tf.random.set_seed(42)"
      ],
      "metadata": {
        "id": "0X4NrdVLjMQc"
      },
      "execution_count": 40,
      "outputs": []
    },
    {
      "cell_type": "code",
      "source": [
        "model = keras.models.Sequential([\n",
        "    keras.layers.Dense(30, activation= 'relu', input_shape= [8]),\n",
        "    keras.layers.Dense(30, activation='relu'),\n",
        "    keras.layers.Dense(1)\n",
        "\n",
        "])"
      ],
      "metadata": {
        "id": "c0bIKS_mj3q4"
      },
      "execution_count": 41,
      "outputs": []
    },
    {
      "cell_type": "code",
      "source": [
        "model.compile(loss='mse', optimizer = keras.optimizers.SGD(learning_rate= 1e-3))"
      ],
      "metadata": {
        "id": "NPSaC1PikvkU"
      },
      "execution_count": 43,
      "outputs": []
    },
    {
      "cell_type": "code",
      "source": [
        "checkpoint_cb = keras.callbacks.ModelCheckpoint('Model - {epoch:02d}.h5')"
      ],
      "metadata": {
        "id": "DRAlmPM5lOQm"
      },
      "execution_count": 44,
      "outputs": []
    },
    {
      "cell_type": "code",
      "source": [
        "from sklearn.utils import validation\n",
        "from IPython.core import history\n",
        "history = model.fit(X_train, y_train, epochs=10,\n",
        "                    validation_data=(X_valid, y_valid),\n",
        "                    callbacks= [checkpoint_cb])"
      ],
      "metadata": {
        "colab": {
          "base_uri": "https://localhost:8080/"
        },
        "id": "Z6qKz_3dl_5v",
        "outputId": "8e892358-65bc-4369-f0f6-e7b5f1a7d4c4"
      },
      "execution_count": 45,
      "outputs": [
        {
          "output_type": "stream",
          "name": "stdout",
          "text": [
            "Epoch 1/10\n",
            "363/363 [==============================] - 4s 7ms/step - loss: 2.1709 - val_loss: 2.0777\n",
            "Epoch 2/10\n",
            " 32/363 [=>............................] - ETA: 1s - loss: 1.1043"
          ]
        },
        {
          "output_type": "stream",
          "name": "stderr",
          "text": [
            "/usr/local/lib/python3.10/dist-packages/keras/src/engine/training.py:3000: UserWarning: You are saving your model as an HDF5 file via `model.save()`. This file format is considered legacy. We recommend using instead the native Keras format, e.g. `model.save('my_model.keras')`.\n",
            "  saving_api.save_model(\n"
          ]
        },
        {
          "output_type": "stream",
          "name": "stdout",
          "text": [
            "363/363 [==============================] - 1s 4ms/step - loss: 0.8375 - val_loss: 0.8012\n",
            "Epoch 3/10\n",
            "363/363 [==============================] - 1s 3ms/step - loss: 0.6664 - val_loss: 0.5910\n",
            "Epoch 4/10\n",
            "363/363 [==============================] - 1s 2ms/step - loss: 0.5790 - val_loss: 0.5349\n",
            "Epoch 5/10\n",
            "363/363 [==============================] - 1s 3ms/step - loss: 0.5244 - val_loss: 0.4763\n",
            "Epoch 6/10\n",
            "363/363 [==============================] - 1s 3ms/step - loss: 0.4853 - val_loss: 0.4609\n",
            "Epoch 7/10\n",
            "363/363 [==============================] - 1s 2ms/step - loss: 0.4610 - val_loss: 0.4272\n",
            "Epoch 8/10\n",
            "363/363 [==============================] - 1s 3ms/step - loss: 0.4443 - val_loss: 0.4142\n",
            "Epoch 9/10\n",
            "363/363 [==============================] - 1s 3ms/step - loss: 0.4329 - val_loss: 0.4207\n",
            "Epoch 10/10\n",
            "363/363 [==============================] - 1s 3ms/step - loss: 0.4250 - val_loss: 0.4252\n"
          ]
        }
      ]
    },
    {
      "cell_type": "markdown",
      "source": [
        "### Best model only"
      ],
      "metadata": {
        "id": "xT11k8X6oaCz"
      }
    },
    {
      "cell_type": "code",
      "source": [
        "del model\n",
        "keras.backend.clear_session()"
      ],
      "metadata": {
        "id": "b0lQ9I2vml2f"
      },
      "execution_count": 46,
      "outputs": []
    },
    {
      "cell_type": "code",
      "source": [
        "model = keras.models.Sequential([\n",
        "    keras.layers.Dense(30, activation= 'relu', input_shape= [8]),\n",
        "    keras.layers.Dense(30, activation= 'relu'),\n",
        "    keras.layers.Dense(1)\n",
        "])"
      ],
      "metadata": {
        "id": "x3xi0YT9orvK"
      },
      "execution_count": 47,
      "outputs": []
    },
    {
      "cell_type": "code",
      "source": [
        "model.compile(loss='mse', optimizer= keras.optimizers.SGD(learning_rate=1e-3))"
      ],
      "metadata": {
        "id": "lmCAkubgpiTQ"
      },
      "execution_count": 48,
      "outputs": []
    },
    {
      "cell_type": "code",
      "source": [
        "checkpoint_cb= keras.callbacks.ModelCheckpoint('Best_Model.h5', save_best_only= True)"
      ],
      "metadata": {
        "id": "Kvg7FXqTqQYb"
      },
      "execution_count": 49,
      "outputs": []
    },
    {
      "cell_type": "code",
      "source": [
        "history = model.fit(X_train, y_train, epochs=10,\n",
        "                    validation_data=(X_valid, y_valid),\n",
        "                    callbacks= [checkpoint_cb])"
      ],
      "metadata": {
        "colab": {
          "base_uri": "https://localhost:8080/"
        },
        "id": "ifeCbEHMqpKW",
        "outputId": "80a609d6-5e6d-449b-94a2-2aacdb051f1b"
      },
      "execution_count": 50,
      "outputs": [
        {
          "output_type": "stream",
          "name": "stdout",
          "text": [
            "Epoch 1/10\n",
            "363/363 [==============================] - 2s 4ms/step - loss: 1.8276 - val_loss: 1.1827\n",
            "Epoch 2/10\n",
            " 34/363 [=>............................] - ETA: 1s - loss: 0.9112"
          ]
        },
        {
          "output_type": "stream",
          "name": "stderr",
          "text": [
            "/usr/local/lib/python3.10/dist-packages/keras/src/engine/training.py:3000: UserWarning: You are saving your model as an HDF5 file via `model.save()`. This file format is considered legacy. We recommend using instead the native Keras format, e.g. `model.save('my_model.keras')`.\n",
            "  saving_api.save_model(\n"
          ]
        },
        {
          "output_type": "stream",
          "name": "stdout",
          "text": [
            "363/363 [==============================] - 1s 3ms/step - loss: 0.7271 - val_loss: 0.6874\n",
            "Epoch 3/10\n",
            "363/363 [==============================] - 1s 2ms/step - loss: 0.6549 - val_loss: 0.6068\n",
            "Epoch 4/10\n",
            "363/363 [==============================] - 1s 3ms/step - loss: 0.6106 - val_loss: 0.5580\n",
            "Epoch 5/10\n",
            "363/363 [==============================] - 1s 3ms/step - loss: 0.5759 - val_loss: 0.5501\n",
            "Epoch 6/10\n",
            "363/363 [==============================] - 1s 3ms/step - loss: 0.5462 - val_loss: 0.5015\n",
            "Epoch 7/10\n",
            "363/363 [==============================] - 1s 2ms/step - loss: 0.5226 - val_loss: 0.4823\n",
            "Epoch 8/10\n",
            "363/363 [==============================] - 1s 2ms/step - loss: 0.5034 - val_loss: 0.4970\n",
            "Epoch 9/10\n",
            "363/363 [==============================] - 1s 2ms/step - loss: 0.4862 - val_loss: 0.4494\n",
            "Epoch 10/10\n",
            "363/363 [==============================] - 1s 2ms/step - loss: 0.4724 - val_loss: 0.4374\n"
          ]
        }
      ]
    },
    {
      "cell_type": "code",
      "source": [
        "model = keras.models.load_model('Best_Model.h5')\n",
        "mse_test = model.evaluate(X_test, y_test)"
      ],
      "metadata": {
        "colab": {
          "base_uri": "https://localhost:8080/"
        },
        "id": "_yg65j7Eq-EU",
        "outputId": "093b1516-5505-436b-cc6e-114817396c2a"
      },
      "execution_count": 51,
      "outputs": [
        {
          "output_type": "stream",
          "name": "stdout",
          "text": [
            "162/162 [==============================] - 1s 2ms/step - loss: 0.4588\n"
          ]
        }
      ]
    },
    {
      "cell_type": "markdown",
      "source": [
        "## Best Model only (with patience level)"
      ],
      "metadata": {
        "id": "pINP3GB0stHY"
      }
    },
    {
      "cell_type": "code",
      "source": [
        "del model\n",
        "keras.backend.clear_session()"
      ],
      "metadata": {
        "id": "xhFggCeCrjEO"
      },
      "execution_count": 52,
      "outputs": []
    },
    {
      "cell_type": "code",
      "source": [
        "model = keras.models.Sequential([\n",
        "    keras.layers.Dense(30, activation= 'relu', input_shape= [8]),\n",
        "    keras.layers.Dense(30, activation= 'relu'),\n",
        "    keras.layers.Dense(1)\n",
        "])"
      ],
      "metadata": {
        "id": "VZXxe5o2tFR0"
      },
      "execution_count": 53,
      "outputs": []
    },
    {
      "cell_type": "code",
      "source": [
        "model.compile(loss='mse', optimizer= keras.optimizers.SGD(learning_rate=1e-3))"
      ],
      "metadata": {
        "id": "-Ahazo4ftMv7"
      },
      "execution_count": 54,
      "outputs": []
    },
    {
      "cell_type": "code",
      "source": [
        "checkpoint_cb= keras.callbacks.ModelCheckpoint('early_stop_Model.h5', save_best_only= True)"
      ],
      "metadata": {
        "id": "6NXdhaf1tSo9"
      },
      "execution_count": 55,
      "outputs": []
    },
    {
      "cell_type": "code",
      "source": [
        "early_stopping_cb= keras.callbacks.EarlyStopping(\n",
        "    patience =10,\n",
        "    restore_best_weights= True\n",
        ")\n",
        "# patience: Number of epochs with no improvement after which training will be stopped"
      ],
      "metadata": {
        "id": "l_cHpaeVtm9L"
      },
      "execution_count": 57,
      "outputs": []
    },
    {
      "cell_type": "code",
      "source": [
        "history = model.fit(X_train, y_train, epochs=200,\n",
        "                    validation_data=(X_valid, y_valid),\n",
        "                    callbacks= [checkpoint_cb, early_stopping_cb])"
      ],
      "metadata": {
        "colab": {
          "base_uri": "https://localhost:8080/"
        },
        "id": "Fng-t0hluFIq",
        "outputId": "9aa81643-88c8-4ac8-8fe0-21f3d9ab9247"
      },
      "execution_count": 59,
      "outputs": [
        {
          "output_type": "stream",
          "name": "stdout",
          "text": [
            "Epoch 1/200\n",
            "363/363 [==============================] - 1s 3ms/step - loss: 0.5720 - val_loss: 0.5171\n",
            "Epoch 2/200\n",
            "363/363 [==============================] - 1s 3ms/step - loss: 0.5372 - val_loss: 0.4879\n",
            "Epoch 3/200\n",
            "363/363 [==============================] - 1s 4ms/step - loss: 0.5110 - val_loss: 0.4645\n",
            "Epoch 4/200\n",
            "363/363 [==============================] - 1s 4ms/step - loss: 0.4908 - val_loss: 0.4521\n",
            "Epoch 5/200\n",
            "363/363 [==============================] - 1s 2ms/step - loss: 0.4756 - val_loss: 0.4394\n",
            "Epoch 6/200\n",
            "363/363 [==============================] - 1s 2ms/step - loss: 0.4633 - val_loss: 0.4317\n",
            "Epoch 7/200\n",
            "363/363 [==============================] - 1s 3ms/step - loss: 0.4536 - val_loss: 0.4296\n",
            "Epoch 8/200\n",
            "363/363 [==============================] - 1s 2ms/step - loss: 0.4455 - val_loss: 0.4248\n",
            "Epoch 9/200\n",
            "363/363 [==============================] - 1s 2ms/step - loss: 0.4387 - val_loss: 0.4230\n",
            "Epoch 10/200\n",
            "363/363 [==============================] - 1s 2ms/step - loss: 0.4329 - val_loss: 0.4278\n",
            "Epoch 11/200\n",
            "363/363 [==============================] - 1s 2ms/step - loss: 0.4279 - val_loss: 0.4296\n",
            "Epoch 12/200\n",
            "363/363 [==============================] - 1s 2ms/step - loss: 0.4233 - val_loss: 0.4317\n",
            "Epoch 13/200\n",
            "363/363 [==============================] - 1s 3ms/step - loss: 0.4193 - val_loss: 0.4383\n",
            "Epoch 14/200\n",
            "363/363 [==============================] - 1s 3ms/step - loss: 0.4156 - val_loss: 0.4374\n",
            "Epoch 15/200\n",
            "363/363 [==============================] - 1s 2ms/step - loss: 0.4123 - val_loss: 0.4350\n",
            "Epoch 16/200\n",
            "363/363 [==============================] - 1s 3ms/step - loss: 0.4092 - val_loss: 0.4349\n",
            "Epoch 17/200\n",
            "363/363 [==============================] - 1s 3ms/step - loss: 0.4065 - val_loss: 0.4354\n",
            "Epoch 18/200\n",
            "363/363 [==============================] - 1s 3ms/step - loss: 0.4040 - val_loss: 0.4365\n",
            "Epoch 19/200\n",
            "363/363 [==============================] - 1s 3ms/step - loss: 0.4012 - val_loss: 0.4309\n"
          ]
        }
      ]
    },
    {
      "cell_type": "code",
      "source": [
        "model = keras.models.load_model('early_stop_Model.h5')\n",
        "mse_test = model.evaluate(X_test, y_test)"
      ],
      "metadata": {
        "colab": {
          "base_uri": "https://localhost:8080/"
        },
        "id": "SQYoJ7aEu8pg",
        "outputId": "8d155e89-ae79-4586-a60e-e38dc9192c24"
      },
      "execution_count": 60,
      "outputs": [
        {
          "output_type": "stream",
          "name": "stdout",
          "text": [
            "162/162 [==============================] - 1s 5ms/step - loss: 0.4272\n"
          ]
        }
      ]
    },
    {
      "cell_type": "code",
      "source": [],
      "metadata": {
        "id": "GLuBP30dwGEl"
      },
      "execution_count": null,
      "outputs": []
    }
  ]
}